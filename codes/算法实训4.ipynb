{
 "cells": [
  {
   "cell_type": "code",
   "execution_count": 19,
   "id": "09138469",
   "metadata": {},
   "outputs": [],
   "source": [
    "import numpy as np\n",
    "import matplotlib.pyplot as plt\n",
    "import pandas as pd\n",
    "\n",
    "path = \"https://archive.ics.uci.edu/ml/machine-learning-databases/iris/iris.data\"\n",
    "headernames = ['sepal-length', 'sepal-width', 'petal-length', 'petal-width', 'Class']\n",
    "dataset = pd.read_csv(path, names = headernames)\n",
    "dataset.head()\n",
    "X = dataset.iloc[:, :-1].values\n",
    "y = dataset.iloc[:, 4].values"
   ]
  },
  {
   "cell_type": "code",
   "execution_count": 20,
   "id": "9b95d00b",
   "metadata": {},
   "outputs": [],
   "source": [
    "\n",
    "from sklearn.model_selection import train_test_split\n",
    "X_train, X_test, y_train, y_test = train_test_split(X, y, test_size = 0.40)"
   ]
  },
  {
   "cell_type": "code",
   "execution_count": 37,
   "id": "235ed7de",
   "metadata": {},
   "outputs": [
    {
     "name": "stdout",
     "output_type": "stream",
     "text": [
      "Confusion Matrix:\n",
      "[[16  0  0]\n",
      " [ 0 20  1]\n",
      " [ 0  1 22]]\n",
      "Classification Report:\n",
      "                 precision    recall  f1-score   support\n",
      "\n",
      "    Iris-setosa       1.00      1.00      1.00        16\n",
      "Iris-versicolor       0.95      0.95      0.95        21\n",
      " Iris-virginica       0.96      0.96      0.96        23\n",
      "\n",
      "       accuracy                           0.97        60\n",
      "      macro avg       0.97      0.97      0.97        60\n",
      "   weighted avg       0.97      0.97      0.97        60\n",
      "\n",
      "Accuracy: 0.9666666666666667\n"
     ]
    }
   ],
   "source": [
    "from sklearn.neighbors import KNeighborsClassifier\n",
    "classifier = KNeighborsClassifier(n_neighbors = 8)\n",
    "classifier.fit(X_train, y_train)\n",
    "\n",
    "y_pred = classifier.predict(X_test)\n",
    "\n",
    "from sklearn.metrics import classification_report, confusion_matrix, accuracy_score\n",
    "result = confusion_matrix(y_test, y_pred)\n",
    "print(\"Confusion Matrix:\")\n",
    "print(result)\n",
    "result1 = classification_report(y_test, y_pred)\n",
    "print(\"Classification Report:\",)\n",
    "print (result1)\n",
    "result2 = accuracy_score(y_test,y_pred)\n",
    "print(\"Accuracy:\",result2)\n"
   ]
  },
  {
   "cell_type": "code",
   "execution_count": null,
   "id": "fcbdd4c2",
   "metadata": {},
   "outputs": [],
   "source": [
    "你输出的Accuracy的值是多少？\n",
    "    0.966666667\n",
    "Accuracy代表什么？ \n",
    "    在训练好的模型中,检验测试集,其结果的准确程度\n",
    "修改n_neighbors参数会对结果有什么影响？\n",
    "    过大过小会导致结果准确程度下降,过大导致较远的样本可能会被误计算,\n",
    "    过小会导致相近样本无法被归为一类"
   ]
  }
 ],
 "metadata": {
  "kernelspec": {
   "display_name": "Python 3 (ipykernel)",
   "language": "python",
   "name": "python3"
  },
  "language_info": {
   "codemirror_mode": {
    "name": "ipython",
    "version": 3
   },
   "file_extension": ".py",
   "mimetype": "text/x-python",
   "name": "python",
   "nbconvert_exporter": "python",
   "pygments_lexer": "ipython3",
   "version": "3.8.8"
  }
 },
 "nbformat": 4,
 "nbformat_minor": 5
}
