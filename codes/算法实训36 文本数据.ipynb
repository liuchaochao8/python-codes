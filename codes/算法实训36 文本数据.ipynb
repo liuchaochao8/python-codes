{
 "cells": [
  {
   "cell_type": "code",
   "execution_count": 12,
   "id": "ba7cc4cd",
   "metadata": {},
   "outputs": [
    {
     "name": "stdout",
     "output_type": "stream",
     "text": [
      "单词数：8\n",
      "分词：{'the': 7, 'quick': 6, 'brown': 0, 'fox': 2, 'jumps': 3, 'over': 5, 'lazy': 4, 'dog': 1}\n"
     ]
    }
   ],
   "source": [
    "from sklearn.feature_extraction.text import CountVectorizer\n",
    "vect = CountVectorizer()\n",
    "en = ['The quick brown fox jumps over a lazy dog']\n",
    "vect.fit(en)\n",
    "print('单词数：{}'.format(len(vect.vocabulary_)))\n",
    "print('分词：{}'.format(vect.vocabulary_))#给每个字确定一个编号"
   ]
  },
  {
   "cell_type": "code",
   "execution_count": 13,
   "id": "89de6f56",
   "metadata": {},
   "outputs": [
    {
     "data": {
      "text/html": [
       "<style>#sk-container-id-1 {color: black;background-color: white;}#sk-container-id-1 pre{padding: 0;}#sk-container-id-1 div.sk-toggleable {background-color: white;}#sk-container-id-1 label.sk-toggleable__label {cursor: pointer;display: block;width: 100%;margin-bottom: 0;padding: 0.3em;box-sizing: border-box;text-align: center;}#sk-container-id-1 label.sk-toggleable__label-arrow:before {content: \"▸\";float: left;margin-right: 0.25em;color: #696969;}#sk-container-id-1 label.sk-toggleable__label-arrow:hover:before {color: black;}#sk-container-id-1 div.sk-estimator:hover label.sk-toggleable__label-arrow:before {color: black;}#sk-container-id-1 div.sk-toggleable__content {max-height: 0;max-width: 0;overflow: hidden;text-align: left;background-color: #f0f8ff;}#sk-container-id-1 div.sk-toggleable__content pre {margin: 0.2em;color: black;border-radius: 0.25em;background-color: #f0f8ff;}#sk-container-id-1 input.sk-toggleable__control:checked~div.sk-toggleable__content {max-height: 200px;max-width: 100%;overflow: auto;}#sk-container-id-1 input.sk-toggleable__control:checked~label.sk-toggleable__label-arrow:before {content: \"▾\";}#sk-container-id-1 div.sk-estimator input.sk-toggleable__control:checked~label.sk-toggleable__label {background-color: #d4ebff;}#sk-container-id-1 div.sk-label input.sk-toggleable__control:checked~label.sk-toggleable__label {background-color: #d4ebff;}#sk-container-id-1 input.sk-hidden--visually {border: 0;clip: rect(1px 1px 1px 1px);clip: rect(1px, 1px, 1px, 1px);height: 1px;margin: -1px;overflow: hidden;padding: 0;position: absolute;width: 1px;}#sk-container-id-1 div.sk-estimator {font-family: monospace;background-color: #f0f8ff;border: 1px dotted black;border-radius: 0.25em;box-sizing: border-box;margin-bottom: 0.5em;}#sk-container-id-1 div.sk-estimator:hover {background-color: #d4ebff;}#sk-container-id-1 div.sk-parallel-item::after {content: \"\";width: 100%;border-bottom: 1px solid gray;flex-grow: 1;}#sk-container-id-1 div.sk-label:hover label.sk-toggleable__label {background-color: #d4ebff;}#sk-container-id-1 div.sk-serial::before {content: \"\";position: absolute;border-left: 1px solid gray;box-sizing: border-box;top: 0;bottom: 0;left: 50%;z-index: 0;}#sk-container-id-1 div.sk-serial {display: flex;flex-direction: column;align-items: center;background-color: white;padding-right: 0.2em;padding-left: 0.2em;position: relative;}#sk-container-id-1 div.sk-item {position: relative;z-index: 1;}#sk-container-id-1 div.sk-parallel {display: flex;align-items: stretch;justify-content: center;background-color: white;position: relative;}#sk-container-id-1 div.sk-item::before, #sk-container-id-1 div.sk-parallel-item::before {content: \"\";position: absolute;border-left: 1px solid gray;box-sizing: border-box;top: 0;bottom: 0;left: 50%;z-index: -1;}#sk-container-id-1 div.sk-parallel-item {display: flex;flex-direction: column;z-index: 1;position: relative;background-color: white;}#sk-container-id-1 div.sk-parallel-item:first-child::after {align-self: flex-end;width: 50%;}#sk-container-id-1 div.sk-parallel-item:last-child::after {align-self: flex-start;width: 50%;}#sk-container-id-1 div.sk-parallel-item:only-child::after {width: 0;}#sk-container-id-1 div.sk-dashed-wrapped {border: 1px dashed gray;margin: 0 0.4em 0.5em 0.4em;box-sizing: border-box;padding-bottom: 0.4em;background-color: white;}#sk-container-id-1 div.sk-label label {font-family: monospace;font-weight: bold;display: inline-block;line-height: 1.2em;}#sk-container-id-1 div.sk-label-container {text-align: center;}#sk-container-id-1 div.sk-container {/* jupyter's `normalize.less` sets `[hidden] { display: none; }` but bootstrap.min.css set `[hidden] { display: none !important; }` so we also need the `!important` here to be able to override the default hidden behavior on the sphinx rendered scikit-learn.org. See: https://github.com/scikit-learn/scikit-learn/issues/21755 */display: inline-block !important;position: relative;}#sk-container-id-1 div.sk-text-repr-fallback {display: none;}</style><div id=\"sk-container-id-1\" class=\"sk-top-container\"><div class=\"sk-text-repr-fallback\"><pre>CountVectorizer()</pre><b>In a Jupyter environment, please rerun this cell to show the HTML representation or trust the notebook. <br />On GitHub, the HTML representation is unable to render, please try loading this page with nbviewer.org.</b></div><div class=\"sk-container\" hidden><div class=\"sk-item\"><div class=\"sk-estimator sk-toggleable\"><input class=\"sk-toggleable__control sk-hidden--visually\" id=\"sk-estimator-id-1\" type=\"checkbox\" checked><label for=\"sk-estimator-id-1\" class=\"sk-toggleable__label sk-toggleable__label-arrow\">CountVectorizer</label><div class=\"sk-toggleable__content\"><pre>CountVectorizer()</pre></div></div></div></div></div>"
      ],
      "text/plain": [
       "CountVectorizer()"
      ]
     },
     "execution_count": 13,
     "metadata": {},
     "output_type": "execute_result"
    }
   ],
   "source": [
    "vect"
   ]
  },
  {
   "cell_type": "code",
   "execution_count": 14,
   "id": "d5ff147a",
   "metadata": {},
   "outputs": [
    {
     "name": "stdout",
     "output_type": "stream",
     "text": [
      "单词数：1\n",
      "分词：{'那只敏捷的棕色狐狸跳过了一只懒惰的狗': 0}\n"
     ]
    }
   ],
   "source": [
    "cn = ['那只敏捷的棕色狐狸跳过了一只懒惰的狗']\n",
    "vect.fit(cn)\n",
    "print('单词数：{}'.format(len(vect.vocabulary_)))\n",
    "print('分词：{}'.format(vect.vocabulary_))"
   ]
  },
  {
   "cell_type": "code",
   "execution_count": 15,
   "id": "6f889dd1",
   "metadata": {},
   "outputs": [
    {
     "name": "stdout",
     "output_type": "stream",
     "text": [
      "['那 只 敏捷 的 棕色 狐狸 跳过 了 一只 懒惰 的 狗']\n"
     ]
    }
   ],
   "source": [
    "import jieba\n",
    "cn = jieba.cut('那只敏捷的棕色狐狸跳过了一只懒惰的狗')\n",
    "cn = [' '.join(cn)]\n",
    "print(cn)"
   ]
  },
  {
   "cell_type": "code",
   "execution_count": 16,
   "id": "13ac83b0",
   "metadata": {},
   "outputs": [
    {
     "name": "stdout",
     "output_type": "stream",
     "text": [
      "单词数：6\n",
      "分词：{'敏捷': 2, '棕色': 3, '狐狸': 4, '跳过': 5, '一只': 0, '懒惰': 1}\n"
     ]
    }
   ],
   "source": [
    "vect.fit(cn)\n",
    "print('单词数：{}'.format(len(vect.vocabulary_)))\n",
    "print('分词：{}'.format(vect.vocabulary_))"
   ]
  },
  {
   "cell_type": "code",
   "execution_count": 17,
   "id": "0b4d217e",
   "metadata": {},
   "outputs": [
    {
     "name": "stdout",
     "output_type": "stream",
     "text": [
      "转化为词袋的特征：\n",
      "<1x6 sparse matrix of type '<class 'numpy.int64'>'\n",
      "\twith 6 stored elements in Compressed Sparse Row format>\n",
      "  (0, 0)\t1\n",
      "  (0, 1)\t1\n",
      "  (0, 2)\t1\n",
      "  (0, 3)\t1\n",
      "  (0, 4)\t1\n",
      "  (0, 5)\t1\n",
      "词袋的密度表达：\n",
      "[[1 1 1 1 1 1]]\n"
     ]
    }
   ],
   "source": [
    "bag_of_words = vect.transform(cn)\n",
    "print('转化为词袋的特征：\\n{}'.format(repr(bag_of_words)))\n",
    "print(bag_of_words)\n",
    "print('词袋的密度表达：\\n{}'.format(bag_of_words.toarray()))"
   ]
  },
  {
   "cell_type": "code",
   "execution_count": 18,
   "id": "69aa9443",
   "metadata": {},
   "outputs": [
    {
     "name": "stdout",
     "output_type": "stream",
     "text": [
      "['懒惰 的 狐狸 不如 敏捷 的 狐狸 敏捷 , 敏捷 的 狐狸 不如 懒惰 的 狐狸 懒惰']\n",
      "分词：{'敏捷': 2, '棕色': 3, '狐狸': 4, '跳过': 5, '一只': 0, '懒惰': 1}\n"
     ]
    }
   ],
   "source": [
    "cn_1 = jieba.cut('懒惰的狐狸不如敏捷的狐狸敏捷,敏捷的狐狸不如懒惰的狐狸懒惰')\n",
    "cn2 = [' '.join(cn_1)]\n",
    "print(cn2)\n",
    "print('分词：{}'.format(vect.vocabulary_))"
   ]
  },
  {
   "cell_type": "code",
   "execution_count": 19,
   "id": "29e60834",
   "metadata": {},
   "outputs": [
    {
     "name": "stdout",
     "output_type": "stream",
     "text": [
      "转化为词袋的特征：\n",
      "<1x6 sparse matrix of type '<class 'numpy.int64'>'\n",
      "\twith 3 stored elements in Compressed Sparse Row format>\n",
      "词袋的密度表达：\n",
      "[[0 3 3 0 4 0]]\n",
      "  (0, 1)\t3\n",
      "  (0, 2)\t3\n",
      "  (0, 4)\t4\n"
     ]
    }
   ],
   "source": [
    "new_bag = vect.transform(cn2)\n",
    "print('转化为词袋的特征：\\n{}'.format(repr(new_bag)))\n",
    "print('词袋的密度表达：\\n{}'.format(new_bag.toarray()))\n",
    "print(new_bag)"
   ]
  },
  {
   "cell_type": "markdown",
   "id": "178d7ace",
   "metadata": {},
   "source": [
    "# 假设你有一段包含多个中文句子的文本数据，你想分词、使用CountVectorizer进行文本特征提取和构建词袋模型并输出文本中的单词数目和分词结果。"
   ]
  },
  {
   "cell_type": "code",
   "execution_count": 30,
   "id": "3ab41d59",
   "metadata": {},
   "outputs": [],
   "source": [
    "from sklearn.feature_extraction.text import CountVectorizer\n",
    "import jieba"
   ]
  },
  {
   "cell_type": "code",
   "execution_count": 31,
   "id": "1b472bcf",
   "metadata": {},
   "outputs": [
    {
     "name": "stdout",
     "output_type": "stream",
     "text": [
      "单词数：5\n",
      "分词：{'喜欢': 1, '披萨': 2, '食物': 4, '朋友': 3, '一起': 0}\n"
     ]
    }
   ],
   "source": [
    "# 定义文本数据\n",
    "text = [\n",
    "    \"我喜欢吃披萨\",\n",
    "    \"披萨是我最喜欢的食物\",\n",
    "    \"我喜欢和朋友一起吃披萨\"\n",
    "]\n",
    "\n",
    "# 中文分词\n",
    "text_segmented = [' '.join(jieba.cut(sentence)) for sentence in text]\n",
    "\n",
    "# 创建CountVectorizer对象\n",
    "vect = CountVectorizer()\n",
    "\n",
    "# 拟合数据，提取文本特征\n",
    "vect.fit(text_segmented)\n",
    "\n",
    "# 输出单词数目和分词结果\n",
    "print(\"单词数：{}\".format(len(vect.vocabulary_)))\n",
    "print(\"分词：{}\".format(vect.vocabulary_))"
   ]
  },
  {
   "cell_type": "code",
   "execution_count": 33,
   "id": "4a56ada4",
   "metadata": {},
   "outputs": [
    {
     "name": "stdout",
     "output_type": "stream",
     "text": [
      "['我 喜欢 吃 披萨', '披萨 是 我 最 喜欢 的 食物', '我 喜欢 和 朋友 一起 吃 披萨', '我 也 喜欢 面条']\n",
      "单词数：6\n",
      "分词：{'喜欢': 1, '披萨': 2, '食物': 5, '朋友': 3, '一起': 0, '面条': 4}\n"
     ]
    }
   ],
   "source": [
    "# 定义文本数据\n",
    "text = [\n",
    "    \"我喜欢吃披萨\",\n",
    "    \"披萨是我最喜欢的食物\",\n",
    "    \"我喜欢和朋友一起吃披萨\",\n",
    "    \"我也喜欢面条\"\n",
    "]\n",
    "\n",
    "# 中文分词\n",
    "text_segmented = [' '.join(jieba.cut(sentence)) for sentence in text]\n",
    "\n",
    "# 创建CountVectorizer对象拟合数据，提取文本特征\n",
    "vect = CountVectorizer().fit(text_segmented)\n",
    "\n",
    "# 输出单词数目和分词结果\n",
    "print(\"单词数：{}\".format(len(vect.vocabulary_)))\n",
    "print(\"分词：{}\".format(vect.vocabulary_))"
   ]
  },
  {
   "cell_type": "markdown",
   "id": "63abc153",
   "metadata": {},
   "source": [
    "任务：计算三句话中短语（长度>=2）的数量以及给这些短语编号\n",
    "代码没有问题，将list中每个句子看作一个文本，在句子数量很多且并不重视句子之间关系时，可将句子合并为一个文本\n",
    "结果变化如上图"
   ]
  },
  {
   "cell_type": "code",
   "execution_count": 47,
   "id": "d654b29c",
   "metadata": {},
   "outputs": [
    {
     "name": "stdout",
     "output_type": "stream",
     "text": [
      "['  我 喜欢 吃 披萨   披萨 是 我 最 喜欢 的 食物   我 喜欢 和 朋友 一起 吃 披萨']\n",
      "单词数：5\n",
      "\n",
      "分词：{'喜欢': 1, '披萨': 2, '食物': 4, '朋友': 3, '一起': 0}\n",
      "\n",
      "词袋的密度表达：\n",
      "[[1 3 3 1 1]]\n",
      "\n",
      "  (0, 0)\t1\n",
      "  (0, 1)\t3\n",
      "  (0, 2)\t3\n",
      "  (0, 3)\t1\n",
      "  (0, 4)\t1\n"
     ]
    }
   ],
   "source": [
    "# 定义文本数据\n",
    "text = [\n",
    "    \"我喜欢吃披萨\",\n",
    "    \"披萨是我最喜欢的食物\",\n",
    "    \"我喜欢和朋友一起吃披萨\"\n",
    "]\n",
    "# 中文分词\n",
    "sen = ''\n",
    "for s in text:\n",
    "    sen=sen+' '+s\n",
    "sen_s = [' '.join(jieba.cut(sen))]\n",
    "\n",
    "# 创建CountVectorizer对象\n",
    "vect = CountVectorizer()\n",
    "\n",
    "# 拟合数据，提取文本特征\n",
    "vect.fit(sen_s)\n",
    "\n",
    "# 输出单词数目和分词结果\n",
    "print(sen_s)\n",
    "print(\"单词数：{}\\n\".format(len(vect.vocabulary_)))\n",
    "print(\"分词：{}\\n\".format(vect.vocabulary_))\n",
    "bag = vect.transform(sen_s)\n",
    "print('词袋的密度表达：\\n{}\\n'.format(bag.toarray()))\n",
    "print(bag)"
   ]
  },
  {
   "cell_type": "code",
   "execution_count": null,
   "id": "f4c748ea",
   "metadata": {},
   "outputs": [],
   "source": []
  },
  {
   "cell_type": "code",
   "execution_count": null,
   "id": "da4df483",
   "metadata": {},
   "outputs": [],
   "source": []
  },
  {
   "cell_type": "code",
   "execution_count": null,
   "id": "de80a019",
   "metadata": {},
   "outputs": [],
   "source": []
  },
  {
   "cell_type": "code",
   "execution_count": null,
   "id": "2ea019d6",
   "metadata": {},
   "outputs": [],
   "source": []
  },
  {
   "cell_type": "code",
   "execution_count": null,
   "id": "ef0342fa",
   "metadata": {},
   "outputs": [],
   "source": []
  }
 ],
 "metadata": {
  "kernelspec": {
   "display_name": "Python 3 (ipykernel)",
   "language": "python",
   "name": "python3"
  },
  "language_info": {
   "codemirror_mode": {
    "name": "ipython",
    "version": 3
   },
   "file_extension": ".py",
   "mimetype": "text/x-python",
   "name": "python",
   "nbconvert_exporter": "python",
   "pygments_lexer": "ipython3",
   "version": "3.8.8"
  }
 },
 "nbformat": 4,
 "nbformat_minor": 5
}
