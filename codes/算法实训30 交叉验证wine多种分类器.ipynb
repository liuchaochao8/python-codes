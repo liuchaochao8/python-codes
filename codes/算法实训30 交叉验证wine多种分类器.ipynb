{
 "cells": [
  {
   "cell_type": "code",
   "execution_count": 43,
   "id": "08ebea8c",
   "metadata": {},
   "outputs": [
    {
     "name": "stdout",
     "output_type": "stream",
     "text": [
      "交叉验证得分：[0.88888889 0.94444444 0.97222222 1.         1.        ]\n",
      "交叉验证平均分：0.961\n"
     ]
    }
   ],
   "source": [
    "from sklearn.datasets import load_wine\n",
    "from sklearn.model_selection import cross_val_score\n",
    "from sklearn.svm import SVC\n",
    "import warnings\n",
    "warnings.filterwarnings('ignore')\n",
    "\n",
    "wine = load_wine()\n",
    "svc = SVC(kernel='linear')\n",
    "\n",
    "scores = cross_val_score(svc, wine.data, wine.target)\n",
    "print('交叉验证得分：{}'.format(scores))\n",
    "print('交叉验证平均分：{:.3f}'.format(scores.mean()))"
   ]
  },
  {
   "cell_type": "code",
   "execution_count": 8,
   "id": "a4e7c23a",
   "metadata": {},
   "outputs": [
    {
     "name": "stdout",
     "output_type": "stream",
     "text": [
      "交叉验证得分：\n",
      "[0.86666667 0.9        0.93333333 0.96666667 1.         1.        ]\n",
      "交叉验证平均分：0.944\n"
     ]
    }
   ],
   "source": [
    "scores = cross_val_score(svc, wine.data, wine.target, cv=6)\n",
    "print('交叉验证得分：\\n{}'.format(scores))\n",
    "print('交叉验证平均分：{:.3f}'.format(scores.mean()))"
   ]
  },
  {
   "cell_type": "code",
   "execution_count": 9,
   "id": "4520e2c3",
   "metadata": {},
   "outputs": [
    {
     "name": "stdout",
     "output_type": "stream",
     "text": [
      "酒的分类标签:\n",
      "[0 0 0 0 0 0 0 0 0 0 0 0 0 0 0 0 0 0 0 0 0 0 0 0 0 0 0 0 0 0 0 0 0 0 0 0 0\n",
      " 0 0 0 0 0 0 0 0 0 0 0 0 0 0 0 0 0 0 0 0 0 0 1 1 1 1 1 1 1 1 1 1 1 1 1 1 1\n",
      " 1 1 1 1 1 1 1 1 1 1 1 1 1 1 1 1 1 1 1 1 1 1 1 1 1 1 1 1 1 1 1 1 1 1 1 1 1\n",
      " 1 1 1 1 1 1 1 1 1 1 1 1 1 1 1 1 1 1 1 2 2 2 2 2 2 2 2 2 2 2 2 2 2 2 2 2 2\n",
      " 2 2 2 2 2 2 2 2 2 2 2 2 2 2 2 2 2 2 2 2 2 2 2 2 2 2 2 2 2 2]\n"
     ]
    }
   ],
   "source": [
    "print('酒的分类标签:\\n{}'.format(wine.target))"
   ]
  },
  {
   "cell_type": "code",
   "execution_count": 10,
   "id": "16c0be7f",
   "metadata": {},
   "outputs": [
    {
     "name": "stdout",
     "output_type": "stream",
     "text": [
      "随机拆分交叉验证模型得分：\n",
      "[0.94444444 0.97222222 0.94444444 0.94444444 1.         0.88888889\n",
      " 1.         0.94444444 0.86111111 0.94444444]\n"
     ]
    }
   ],
   "source": [
    "from sklearn.model_selection import ShuffleSplit\n",
    "shuffle_split = ShuffleSplit(test_size=.2, train_size=.7,\n",
    "                             n_splits = 10)\n",
    "scores = cross_val_score(svc, wine.data, wine.target, cv=shuffle_split)\n",
    "print('随机拆分交叉验证模型得分：\\n{}'.format(scores))\n"
   ]
  },
  {
   "cell_type": "code",
   "execution_count": 11,
   "id": "4b6eaa80",
   "metadata": {},
   "outputs": [
    {
     "name": "stdout",
     "output_type": "stream",
     "text": [
      "迭代次数:178\n",
      "模型平均分：0.955\n"
     ]
    }
   ],
   "source": [
    "from sklearn.model_selection import LeaveOneOut\n",
    "cv = LeaveOneOut()\n",
    "scores = cross_val_score(svc, wine.data, wine.target, cv=cv)\n",
    "print('迭代次数:{}'.format(len(scores)))\n",
    "print(\"模型平均分：{:.3f}\".format(scores.mean()))\n"
   ]
  },
  {
   "cell_type": "code",
   "execution_count": 18,
   "id": "42c516c1",
   "metadata": {},
   "outputs": [
    {
     "data": {
      "image/png": "[encoded data removed]",
      "text/plain": [
       "<Figure size 640x480 with 1 Axes>"
      ]
     },
     "metadata": {},
     "output_type": "display_data"
    }
   ],
   "source": [
    "import matplotlib.pylab as plt\n",
    "from sklearn.datasets import make_blobs\n",
    "\n",
    " \n",
    "data,target = make_blobs(n_samples=100,n_features=2,centers=3)\n",
    "# 在2D图中绘制样本，每个样本颜色不同\n",
    "plt.scatter(data[:,0],data[:,1],c=target)\n",
    "plt.show()"
   ]
  },
  {
   "cell_type": "code",
   "execution_count": null,
   "id": "4f8b2913",
   "metadata": {},
   "outputs": [],
   "source": []
  },
  {
   "cell_type": "markdown",
   "id": "700fadd2",
   "metadata": {},
   "source": [
    "## 1. 假设你正在研究某个机器学习模型，想要使用交叉验证对该模型进行评估。请使用 scikit-learn 库中的 cross_val_score 函数，完成以下任务：\n",
    "\n",
    "a.\t从 scikit-learn 的 datasets 中加载 digits 数据集；\n",
    "\n",
    "b.\t从 scikit-learn 的 neighbors 中导入 KNeighborsClassifier 模型；\n",
    "\n",
    "c.\t将 KNeighborsClassifier 模型和 digits 数据集作为参数传入 cross_val_score 函数中，使用 5 折交叉验证计算模型得分，并输出；\n",
    "\n",
    "d.\t将 5 折交叉验证的平均得分输出。\n",
    "\n",
    "## 2. 使用另外几个不同的分类器来对其进行评估，比较它们的准确度，找到最好的分类器，如：Logistic回归，决策树和随机森林。\n"
   ]
  },
  {
   "cell_type": "code",
   "execution_count": 49,
   "id": "df9d74df",
   "metadata": {},
   "outputs": [
    {
     "name": "stdout",
     "output_type": "stream",
     "text": [
      "dict_keys(['data', 'target', 'frame', 'feature_names', 'target_names', 'images', 'DESCR'])\n",
      "(1797, 64)\n"
     ]
    }
   ],
   "source": [
    "from sklearn.datasets import load_digits\n",
    "#数据加载进digits\n",
    "dig = load_digits()\n",
    "#查看数据集属性\n",
    "print(dig.keys())\n",
    "print(dig.data.shape)\n",
    "X = dig.data\n",
    "y = dig.target"
   ]
  },
  {
   "cell_type": "code",
   "execution_count": 50,
   "id": "5193155a",
   "metadata": {},
   "outputs": [
    {
     "name": "stdout",
     "output_type": "stream",
     "text": [
      "KNeighbors交叉验证得分：\n",
      "[0.93611111 0.95833333 0.96935933 0.97771588 0.94986072]\n",
      "KNeighbors交叉验证平均分：0.958\n"
     ]
    }
   ],
   "source": [
    "from sklearn.neighbors import KNeighborsClassifier\n",
    "kn = KNeighborsClassifier(n_neighbors = 8)\n",
    "kn.fit(X,y)\n",
    "scores = cross_val_score(kn, X,y, cv=5)\n",
    "print('KNeighbors交叉验证得分：\\n{}'.format(scores))\n",
    "print('KNeighbors交叉验证平均分：{:.3f}'.format(scores.mean()))"
   ]
  },
  {
   "cell_type": "code",
   "execution_count": 51,
   "id": "c418eb09",
   "metadata": {},
   "outputs": [
    {
     "name": "stdout",
     "output_type": "stream",
     "text": [
      "LogisticRegression交叉验证得分：\n",
      "[0.92222222 0.86944444 0.94150418 0.93871866 0.89693593]\n",
      "LogisticRegression交叉验证平均分：0.914\n"
     ]
    }
   ],
   "source": [
    "from sklearn.linear_model import LogisticRegression\n",
    "lr = LogisticRegression()\n",
    "lr.fit(X,y)\n",
    "scores = cross_val_score(lr, X,y, cv=5)\n",
    "print('LogisticRegression交叉验证得分：\\n{}'.format(scores))\n",
    "print('LogisticRegression交叉验证平均分：{:.3f}'.format(scores.mean()))"
   ]
  },
  {
   "cell_type": "code",
   "execution_count": 52,
   "id": "91832218",
   "metadata": {},
   "outputs": [
    {
     "name": "stdout",
     "output_type": "stream",
     "text": [
      "DecisionTree交叉验证得分：\n",
      "[0.78055556 0.71111111 0.77994429 0.83844011 0.79108635]\n",
      "DecisionTree交叉验证平均分：0.780\n"
     ]
    }
   ],
   "source": [
    "from sklearn import tree\n",
    "dtree = tree.DecisionTreeClassifier(max_depth=20)\n",
    "dtree.fit(X,y)\n",
    "scores = cross_val_score(dtree, X,y, cv=5)\n",
    "print('DecisionTree交叉验证得分：\\n{}'.format(scores))\n",
    "print('DecisionTree交叉验证平均分：{:.3f}'.format(scores.mean()))"
   ]
  },
  {
   "cell_type": "code",
   "execution_count": 53,
   "id": "7910a563",
   "metadata": {},
   "outputs": [
    {
     "name": "stdout",
     "output_type": "stream",
     "text": [
      "RandomForest交叉验证得分：\n",
      "[0.93055556 0.91111111 0.96657382 0.9637883  0.90529248]\n",
      "RandomForest交叉验证平均分：0.935\n"
     ]
    }
   ],
   "source": [
    "from sklearn.ensemble import RandomForestClassifier\n",
    "forest = RandomForestClassifier(n_estimators=100,random_state=3)\n",
    "forest.fit(X,y)\n",
    "scores = cross_val_score(forest, X,y, cv=5)\n",
    "print('RandomForest交叉验证得分：\\n{}'.format(scores))\n",
    "print('RandomForest交叉验证平均分：{:.3f}'.format(scores.mean()))"
   ]
  },
  {
   "cell_type": "markdown",
   "id": "35e3f11d",
   "metadata": {},
   "source": [
    "## 得分最高的分类器是KNeighborsClassifier"
   ]
  },
  {
   "cell_type": "code",
   "execution_count": null,
   "id": "64517e4d",
   "metadata": {},
   "outputs": [],
   "source": []
  }
 ],
 "metadata": {
  "kernelspec": {
   "display_name": "Python 3 (ipykernel)",
   "language": "python",
   "name": "python3"
  },
  "language_info": {
   "codemirror_mode": {
    "name": "ipython",
    "version": 3
   },
   "file_extension": ".py",
   "mimetype": "text/x-python",
   "name": "python",
   "nbconvert_exporter": "python",
   "pygments_lexer": "ipython3",
   "version": "3.8.8"
  }
 },
 "nbformat": 4,
 "nbformat_minor": 5
}
