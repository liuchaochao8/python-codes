{
 "cells": [
  {
   "cell_type": "code",
   "execution_count": 1,
   "id": "98d68192",
   "metadata": {},
   "outputs": [],
   "source": [
    "from sklearn.feature_extraction.text import CountVectorizer\n",
    "import jieba"
   ]
  },
  {
   "cell_type": "code",
   "execution_count": 3,
   "id": "4f2cd1cd",
   "metadata": {},
   "outputs": [
    {
     "name": "stdout",
     "output_type": "stream",
     "text": [
      "这句话的特征表达：\n",
      "[[1 1 1 1 1 1]]\n"
     ]
    }
   ],
   "source": [
    "joke = jieba.cut('道士看见和尚亲吻了尼姑的嘴唇')\n",
    "joke = [' '.join(joke)]\n",
    "vect = CountVectorizer()\n",
    "vect.fit(joke)\n",
    "joke_feature = vect.transform(joke)\n",
    "print('这句话的特征表达：\\n{}'.format(joke_feature.toarray()))"
   ]
  },
  {
   "cell_type": "code",
   "execution_count": 4,
   "id": "30282944",
   "metadata": {},
   "outputs": [
    {
     "name": "stdout",
     "output_type": "stream",
     "text": [
      "这句话的特征表达：\n",
      "[[1 1 1 1 1 1]]\n"
     ]
    }
   ],
   "source": [
    "joke2 = jieba.cut('尼姑看见道士的嘴唇亲吻了和尚')\n",
    "joke2 = [' '.join(joke2)]\n",
    "joke2_feature = vect.transform(joke2)\n",
    "print('这句话的特征表达：\\n{}'.format(joke2_feature.toarray()))"
   ]
  },
  {
   "cell_type": "code",
   "execution_count": 5,
   "id": "618772c9",
   "metadata": {},
   "outputs": [
    {
     "name": "stdout",
     "output_type": "stream",
     "text": [
      "调整n-Gram参数后的词典：['亲吻 尼姑', '和尚 亲吻', '尼姑 嘴唇', '看见 和尚', '道士 看见']\n",
      "新的特征表达：[[1 1 1 1 1]]\n"
     ]
    },
    {
     "name": "stderr",
     "output_type": "stream",
     "text": [
      "D:\\liuchaochao\\DownLoad\\anaconda\\lib\\site-packages\\sklearn\\utils\\deprecation.py:87: FutureWarning: Function get_feature_names is deprecated; get_feature_names is deprecated in 1.0 and will be removed in 1.2. Please use get_feature_names_out instead.\n",
      "  warnings.warn(msg, category=FutureWarning)\n"
     ]
    }
   ],
   "source": [
    "vect = CountVectorizer(ngram_range=(2,2))\n",
    "cv = vect.fit(joke)\n",
    "joke_feature = cv.transform(joke)\n",
    "print('调整n-Gram参数后的词典：{}'.format(cv.get_feature_names()))\n",
    "print('新的特征表达：{}'.format(joke_feature.toarray()))"
   ]
  },
  {
   "cell_type": "code",
   "execution_count": 7,
   "id": "fc707983",
   "metadata": {},
   "outputs": [
    {
     "name": "stdout",
     "output_type": "stream",
     "text": [
      "这句话的特征表达：\n",
      "[[0 0 0 0 0]]\n",
      "['亲吻', '和尚', '嘴唇', '尼姑', '看见', '道士']\n"
     ]
    }
   ],
   "source": [
    "joke2 = jieba.cut('尼姑看见道士的嘴唇亲吻了和尚')\n",
    "joke2 = [' '.join(joke2)]\n",
    "joke2_feature = vect.transform(joke2)\n",
    "print('这句话的特征表达：\\n{}'.format(joke2_feature.toarray()))\n",
    "\n",
    "from sklearn.feature_extraction.text import TfidfVectorizer\n",
    "tf = TfidfVectorizer().fit(joke)\n",
    "print(tf.get_feature_names())"
   ]
  },
  {
   "cell_type": "markdown",
   "id": "dbb7d4c3",
   "metadata": {},
   "source": [
    "# ACLIMDB数据集"
   ]
  },
  {
   "cell_type": "code",
   "execution_count": 136,
   "id": "01caa988",
   "metadata": {},
   "outputs": [
    {
     "name": "stdout",
     "output_type": "stream",
     "text": [
      "卷 Data 的文件夹 PATH 列表\n",
      "卷序列号为 00000051 F6FD:B891\n",
      "D:\\LIUCHAOCHAO\\桌面\\ACLIMDB\n",
      "├─test\n",
      "│  ├─neg\n",
      "│  └─pos\n",
      "└─train\n",
      "    ├─neg\n",
      "    ├─pos\n",
      "    └─unsup\n"
     ]
    }
   ],
   "source": [
    "#coding = <gbk>\n",
    "path = 'D:/liuchaochao/桌面/aclImdb'\n",
    "!tree D:\\liuchaochao\\桌面\\aclImdb"
   ]
  },
  {
   "cell_type": "code",
   "execution_count": 137,
   "id": "8b4f1a8d",
   "metadata": {},
   "outputs": [
    {
     "name": "stdout",
     "output_type": "stream",
     "text": [
      "训练集文件数量:75000\n",
      "\n",
      "随机抽一个看看:\n",
      " b\"Okay, once you get past the fact that Mitchell and Petrillo are Dean and Jerry knockoffs, you could do worse than this film. Charlita as Princess Nona is great eye candy, Lugosi does his best with the material he's given, and the production values, music especially (except for the vocals) are better than you'd think for the $50k cost of production. The final glimpses of the characters are a hoot. Written by Tim Ryan, a minor actor in late Charlie Chan films, and husband of Grannie on the Beverly Hillbillies. All in all, WAY better than many late Lugosi cheapies.\"\n"
     ]
    }
   ],
   "source": [
    "from sklearn.datasets import load_files\n",
    "train_set = load_files('D:/liuchaochao/桌面/aclImdb/train')\n",
    "X_train, y_train = train_set.data, train_set.target\n",
    "print('训练集文件数量:{}'.format(len(X_train)))\n",
    "print('\\n随机抽一个看看:\\n', X_train[22])"
   ]
  },
  {
   "cell_type": "code",
   "execution_count": 138,
   "id": "5241b4a5",
   "metadata": {},
   "outputs": [
    {
     "data": {
      "text/plain": [
       "25000"
      ]
     },
     "execution_count": 138,
     "metadata": {},
     "output_type": "execute_result"
    }
   ],
   "source": [
    "X_train = [doc.replace(b'<br />', b' ') for doc in X_train]\n",
    "test = load_files('D:/liuchaochao/桌面/aclImdb/test/')\n",
    "X_test, y_test = test.data, test.target\n",
    "X_test = [doc.replace(b'<br />', b' ') for doc in X_test]\n",
    "len(X_test)"
   ]
  },
  {
   "cell_type": "code",
   "execution_count": 139,
   "id": "f9ffb653",
   "metadata": {},
   "outputs": [
    {
     "name": "stdout",
     "output_type": "stream",
     "text": [
      "训练集样本特征数量：124255\n",
      "最后10个训练集样本特征：['üvegtigris', 'üwe', 'ÿou', 'ıslam', 'ōtomo', 'şey', 'дом', 'книги', '色戒', 'ｒｏｃｋ']\n"
     ]
    },
    {
     "name": "stderr",
     "output_type": "stream",
     "text": [
      "D:\\liuchaochao\\DownLoad\\anaconda\\lib\\site-packages\\sklearn\\utils\\deprecation.py:87: FutureWarning: Function get_feature_names is deprecated; get_feature_names is deprecated in 1.0 and will be removed in 1.2. Please use get_feature_names_out instead.\n",
      "  warnings.warn(msg, category=FutureWarning)\n"
     ]
    }
   ],
   "source": [
    "vect = CountVectorizer().fit(X_train)\n",
    "X_train_vect = vect.transform(X_train)\n",
    "print('训练集样本特征数量：{}'.format(len(vect.get_feature_names())))\n",
    "print('最后10个训练集样本特征：{}'.format(vect.get_feature_names()[-10:]))"
   ]
  },
  {
   "cell_type": "code",
   "execution_count": 142,
   "id": "e43c5285",
   "metadata": {},
   "outputs": [
    {
     "data": {
      "text/plain": [
       "(75000, 124255)"
      ]
     },
     "execution_count": 142,
     "metadata": {},
     "output_type": "execute_result"
    }
   ],
   "source": [
    "X_train_vect.iloc"
   ]
  },
  {
   "cell_type": "code",
   "execution_count": 37,
   "id": "6a8fff6f",
   "metadata": {},
   "outputs": [
    {
     "name": "stderr",
     "output_type": "stream",
     "text": [
      "D:\\liuchaochao\\DownLoad\\anaconda\\lib\\site-packages\\sklearn\\svm\\_base.py:1225: ConvergenceWarning: Liblinear failed to converge, increase the number of iterations.\n",
      "  warnings.warn(\n",
      "D:\\liuchaochao\\DownLoad\\anaconda\\lib\\site-packages\\sklearn\\svm\\_base.py:1225: ConvergenceWarning: Liblinear failed to converge, increase the number of iterations.\n",
      "  warnings.warn(\n",
      "D:\\liuchaochao\\DownLoad\\anaconda\\lib\\site-packages\\sklearn\\svm\\_base.py:1225: ConvergenceWarning: Liblinear failed to converge, increase the number of iterations.\n",
      "  warnings.warn(\n",
      "D:\\liuchaochao\\DownLoad\\anaconda\\lib\\site-packages\\sklearn\\svm\\_base.py:1225: ConvergenceWarning: Liblinear failed to converge, increase the number of iterations.\n",
      "  warnings.warn(\n"
     ]
    },
    {
     "name": "stdout",
     "output_type": "stream",
     "text": [
      "模型平均分：0.671\n"
     ]
    },
    {
     "name": "stderr",
     "output_type": "stream",
     "text": [
      "D:\\liuchaochao\\DownLoad\\anaconda\\lib\\site-packages\\sklearn\\svm\\_base.py:1225: ConvergenceWarning: Liblinear failed to converge, increase the number of iterations.\n",
      "  warnings.warn(\n"
     ]
    }
   ],
   "source": [
    "from sklearn.svm import LinearSVC\n",
    "from sklearn.model_selection import cross_val_score\n",
    "scores = cross_val_score(LinearSVC(), X_train_vect, y_train)\n",
    "print('模型平均分：{:.3f}'.format(scores.mean()))"
   ]
  },
  {
   "cell_type": "code",
   "execution_count": 38,
   "id": "2cb0e846",
   "metadata": {},
   "outputs": [
    {
     "name": "stdout",
     "output_type": "stream",
     "text": [
      "测试集模型得分：0.25116\n"
     ]
    },
    {
     "name": "stderr",
     "output_type": "stream",
     "text": [
      "D:\\liuchaochao\\DownLoad\\anaconda\\lib\\site-packages\\sklearn\\svm\\_base.py:1225: ConvergenceWarning: Liblinear failed to converge, increase the number of iterations.\n",
      "  warnings.warn(\n"
     ]
    }
   ],
   "source": [
    "X_test_vect = vect.transform(X_test)\n",
    "clf = LinearSVC().fit(X_train_vect, y_train)\n",
    "print('测试集模型得分：{}'.format(clf.score(X_test_vect, y_test)))"
   ]
  },
  {
   "cell_type": "code",
   "execution_count": 39,
   "id": "d38d93c2",
   "metadata": {},
   "outputs": [
    {
     "name": "stdout",
     "output_type": "stream",
     "text": [
      "未经tfidf处理的特征：\n",
      " [[0 0 0 0 0]\n",
      " [0 0 0 0 0]\n",
      " [0 0 0 0 0]\n",
      " [0 0 0 0 0]\n",
      " [0 0 0 0 0]]\n",
      "经过tfidf处理的特征：\n",
      " [[0. 0. 0. 0. 0.]\n",
      " [0. 0. 0. 0. 0.]\n",
      " [0. 0. 0. 0. 0.]\n",
      " [0. 0. 0. 0. 0.]\n",
      " [0. 0. 0. 0. 0.]]\n"
     ]
    }
   ],
   "source": [
    "from sklearn.feature_extraction.text import TfidfTransformer\n",
    "tfidf = TfidfTransformer(smooth_idf = False)\n",
    "tfidf.fit(X_train_vect)\n",
    "X_train_tfidf = tfidf.transform(X_train_vect)\n",
    "X_test_tfidf = tfidf.transform(X_test_vect)\n",
    "print('未经tfidf处理的特征：\\n',X_train_vect[:5,:5].toarray())\n",
    "print('经过tfidf处理的特征：\\n',X_train_tfidf[:5,:5].toarray())"
   ]
  },
  {
   "cell_type": "code",
   "execution_count": 40,
   "id": "9ee2ad28",
   "metadata": {},
   "outputs": [
    {
     "name": "stdout",
     "output_type": "stream",
     "text": [
      "经过tf-idf处理的训练集交叉验证得分：0.671\n",
      "经过tf-idf处理的测试集得分：0.145\n"
     ]
    }
   ],
   "source": [
    "clf = LinearSVC().fit(X_train_tfidf, y_train)\n",
    "scores2 = cross_val_score(LinearSVC(), X_train_tfidf, y_train)\n",
    "\n",
    "print('经过tf-idf处理的训练集交叉验证得分：{:.3f}'.format(scores.mean()))\n",
    "print('经过tf-idf处理的测试集得分：{:.3f}'.format(clf.score(X_test_tfidf,\n",
    "                                                y_test)))"
   ]
  },
  {
   "cell_type": "code",
   "execution_count": 41,
   "id": "8e65aa94",
   "metadata": {},
   "outputs": [
    {
     "name": "stdout",
     "output_type": "stream",
     "text": [
      "停用词个数： 318\n",
      "列出前20个和最后20个：\n",
      " ['also', 'others', 'either', 'below', 'ever', 'three', 're', 'thick', 'too', 'how', 'no', 'always', 'sometimes', 'hence', 'system', 'down', 'when', 'name', 'get', 'he'] ['everywhere', 'whenever', 'sixty', 'any', 'because', 'were', 'except', 'cant', 'enough', 'than', 'without', 'they', 'third', 'fire', 'could', 'therein', 'you', 'detail', 'she', 'seems']\n"
     ]
    }
   ],
   "source": [
    "from sklearn.feature_extraction.text import ENGLISH_STOP_WORDS\n",
    "print('停用词个数：', len(ENGLISH_STOP_WORDS))\n",
    "print('列出前20个和最后20个：\\n', list(ENGLISH_STOP_WORDS)[:20],\n",
    "     list(ENGLISH_STOP_WORDS)[-20:])"
   ]
  },
  {
   "cell_type": "code",
   "execution_count": 42,
   "id": "a72ee9b6",
   "metadata": {},
   "outputs": [
    {
     "name": "stdout",
     "output_type": "stream",
     "text": [
      "去掉停用词后训练集交叉验证平均分：0.733\n",
      "去掉停用词后测试集模型得分：0.152\n"
     ]
    }
   ],
   "source": [
    "from sklearn.feature_extraction.text import TfidfVectorizer\n",
    "tfidf = TfidfVectorizer(smooth_idf = False, stop_words = 'english')\n",
    "tfidf.fit(X_train)\n",
    "X_train_tfidf = tfidf.transform(X_train)\n",
    "scores3 = cross_val_score(LinearSVC(), X_train_tfidf, y_train)\n",
    "clf.fit(X_train_tfidf, y_train)\n",
    "X_test_tfidf = tfidf.transform(X_test)\n",
    "print('去掉停用词后训练集交叉验证平均分：{:.3f}'.format(scores3.mean()))\n",
    "print('去掉停用词后测试集模型得分：{:.3f}'.format(clf.score(X_test_tfidf, \n",
    "                                              y_test)))"
   ]
  },
  {
   "cell_type": "code",
   "execution_count": null,
   "id": "69845c07",
   "metadata": {},
   "outputs": [],
   "source": [
    "\n",
    "\n",
    "\n",
    "if __name__ == \"__main__\":\n",
    "    # NOTE: we put the following in a 'if __name__ == \"__main__\"' protected\n",
    "    # block to be able to use a multi-core grid search that also works under\n",
    "    # Windows, see: http://docs.python.org/library/multiprocessing.html#windows\n",
    "    # The multiprocessing module is used as the backend of joblib.Parallel\n",
    "    # that is used when n_jobs != 1 in GridSearchCV\n",
    "\n",
    "    # the training data folder must be passed as first argument\n",
    "    movie_reviews_data_folder = sys.argv[1]\n",
    "    dataset = load_files(movie_reviews_data_folder, shuffle=False)\n",
    "    print(\"n_samples: %d\" % len(dataset.data))\n",
    "\n",
    "    # split the dataset in training and test set:\n",
    "    docs_train, docs_test, y_train, y_test = train_test_split(\n",
    "        dataset.data, dataset.target, test_size=0.25, random_state=None)\n",
    "\n",
    "    # TASK: Build a vectorizer / classifier pipeline that filters out tokens\n",
    "    # that are too rare or too frequent\n",
    "\n",
    "    # TASK: Build a grid search to find out whether unigrams or bigrams are\n",
    "    # more useful.\n",
    "    # Fit the pipeline on the training set using grid search for the parameters\n",
    "\n",
    "    # TASK: print the cross-validated scores for the each parameters set\n",
    "    # explored by the grid search\n",
    "\n",
    "    # TASK: Predict the outcome on the testing set and store it in a variable\n",
    "    # named y_predicted\n",
    "\n",
    "    # Print the classification report\n",
    "    print(metrics.classification_report(y_test, y_predicted,\n",
    "                                        target_names=dataset.target_names))\n",
    "\n",
    "    # Print and plot the confusion matrix\n",
    "    cm = metrics.confusion_matrix(y_test, y_predicted)\n",
    "    print(cm)\n",
    "\n",
    "    # import matplotlib.pyplot as plt\n",
    "    # plt.matshow(cm)\n",
    "    # plt.show()"
   ]
  },
  {
   "cell_type": "markdown",
   "id": "da8a96f8",
   "metadata": {},
   "source": [
    "# 代码的主要流程如下："
   ]
  },
  {
   "cell_type": "markdown",
   "id": "8676506b",
   "metadata": {},
   "source": [
    "1.导入必要的库。\n",
    "\n",
    "2.加载电影评论数据集。\n",
    "\n",
    "3.将数据集分为训练集和测试集。\n",
    "\n",
    "4.构建一个包含特征提取和分类器的管道。\n",
    "\n",
    "5.使用网格搜索确定单个词（unigram）或两个词（bigram）哪个更有用。\n",
    "\n",
    "6.在训练集上拟合管道，使用网格搜索寻找最佳参数。\n",
    "\n",
    "7.打印每个候选参数的平均值和标准差。\n",
    "\n",
    "8.在测试集上预测结果并保存在变量y_predicted中。\n",
    "\n",
    "9.打印分类报告，包括精确率、召回率等指标。\n",
    "\n",
    "10.打印和绘制混淆矩阵。"
   ]
  },
  {
   "cell_type": "code",
   "execution_count": 71,
   "id": "33151d60",
   "metadata": {},
   "outputs": [],
   "source": [
    "# 1.导入必要的库。\n",
    "import sys\n",
    "from sklearn.feature_extraction.text import TfidfVectorizer\n",
    "from sklearn.feature_selection import SelectFromModel\n",
    "from sklearn.feature_selection import SelectPercentile\n",
    "from sklearn.ensemble import RandomForestRegressor\n",
    "from sklearn.svm import LinearSVC\n",
    "from sklearn.pipeline import Pipeline\n",
    "from sklearn.model_selection import GridSearchCV\n",
    "from sklearn.datasets import load_files\n",
    "from sklearn.model_selection import train_test_split\n",
    "from sklearn import metrics\n",
    "from sklearn.neighbors import KNeighborsClassifier#KNN模型\n",
    "import matplotlib.pyplot as plt\n",
    "import numpy as np\n",
    "from sklearn.feature_extraction.text import CountVectorizer\n",
    "import jieba\n",
    "import warnings\n",
    "warnings.filterwarnings('ignore')"
   ]
  },
  {
   "cell_type": "code",
   "execution_count": 72,
   "id": "4529f000",
   "metadata": {},
   "outputs": [
    {
     "name": "stdout",
     "output_type": "stream",
     "text": [
      "n_samples: 2000\n"
     ]
    }
   ],
   "source": [
    "# 2.加载电影评论数据集。\n",
    "dataset = load_files('D:/liuchaochao/桌面/txt_sentoken', shuffle=False)\n",
    "print(\"n_samples: %d\" % len(dataset.data))"
   ]
  },
  {
   "cell_type": "code",
   "execution_count": 73,
   "id": "78bf3e1e",
   "metadata": {},
   "outputs": [],
   "source": [
    "# 3.将数据集分为训练集和测试集。\n",
    "x_train, x_test, y_train, y_test = train_test_split(\n",
    "    dataset.data, dataset.target, test_size=0.3, random_state=None) "
   ]
  },
  {
   "cell_type": "code",
   "execution_count": 74,
   "id": "4ab8a107",
   "metadata": {},
   "outputs": [
    {
     "name": "stdout",
     "output_type": "stream",
     "text": [
      "训练集文件数量:1400\n"
     ]
    }
   ],
   "source": [
    "# 3.1.将句子转为向量\n",
    "print('训练集文件数量:{}'.format(len(x_train)))\n",
    "#print('\\n随机抽一个看看:\\n', x_train[42])\n",
    "\n",
    "x_train_r = [doc.replace(b\"\\n\", b\" \").replace(b\"\\''\", b\"\") for doc in x_train]\n",
    "x_test_r = [doc.replace(b\"\\n\", b\" \").replace(b\"\\''\", b\"\") for doc in x_test]\n"
   ]
  },
  {
   "cell_type": "code",
   "execution_count": 75,
   "id": "80a35f97",
   "metadata": {},
   "outputs": [
    {
     "name": "stdout",
     "output_type": "stream",
     "text": [
      "训练集样本特征数量：34528\n",
      "最后10个训练集样本特征：['14th', '15', '150', '1500s', '150th', '151', '152', '1521', '153', '155']\n"
     ]
    }
   ],
   "source": [
    "# 3.2.获得样本特征\n",
    "vect = CountVectorizer().fit(x_train_r)\n",
    "x_train_vect = vect.transform(x_train_r)\n",
    "x_test_vect = vect.transform(x_test_r)\n",
    "print('训练集样本特征数量：{}'.format(len(vect.get_feature_names())))\n",
    "print('最后10个训练集样本特征：{}'.format(vect.get_feature_names()[56:66]))"
   ]
  },
  {
   "cell_type": "code",
   "execution_count": 76,
   "id": "2ea315f7",
   "metadata": {},
   "outputs": [],
   "source": [
    "# 4.构建一个包含特征提取和分类器的管道。\n",
    "pipeline = Pipeline(steps=[('select',SelectPercentile()),\n",
    "                     ('knn',KNeighborsClassifier(n_jobs=-1))])"
   ]
  },
  {
   "cell_type": "code",
   "execution_count": 83,
   "id": "a2a259c1",
   "metadata": {},
   "outputs": [
    {
     "name": "stdout",
     "output_type": "stream",
     "text": [
      "最优参数：{'vec__ngram_range': (1, 1)}\n"
     ]
    }
   ],
   "source": [
    "# 5.使用网格搜索确定单个词（unigram）或两个词（bigram）哪个更有用。\n",
    "from sklearn.svm import LinearSVC\n",
    "from sklearn.model_selection import cross_val_score\n",
    "# scores = cross_val_score(LinearSVC(), x_train_vect, y_train)\n",
    "# print('模型平均分：{:.3f}'.format(scores.mean()))\n",
    "vect = CountVectorizer()\n",
    "pl = Pipeline(steps=[('vec',vect),\n",
    "                     ('knn',KNeighborsClassifier(n_jobs=-1))])\n",
    "\n",
    "pss = {'vec__ngram_range':[(1,1),(2,2),(3,3)]}\n",
    "\n",
    "ser = GridSearchCV(pl,pss, cv=5)\n",
    "ser.fit(x_train,y_train)\n",
    "\n",
    "# print('模型最高分：{:.f}'.format(ser.score(x_test, y_test)))\n",
    "print('最优参数：{}'.format(ser.best_params_))\n"
   ]
  },
  {
   "cell_type": "code",
   "execution_count": 84,
   "id": "c5f97043",
   "metadata": {},
   "outputs": [
    {
     "name": "stdout",
     "output_type": "stream",
     "text": [
      "0.6607142857142857\n",
      "Pipeline(steps=[('select', SelectPercentile(percentile=70)),\n",
      "                ('knn', KNeighborsClassifier(n_jobs=-1, n_neighbors=50))])\n"
     ]
    }
   ],
   "source": [
    "# 6.在训练集上拟合管道，使用网格搜索寻找最佳参数。\n",
    "pipeline = Pipeline(steps=[('select',SelectPercentile()),\n",
    "                     ('knn',KNeighborsClassifier(n_jobs=-1))])\n",
    "param_grid = {'select__percentile':[30,40,50,60,70],\n",
    "             'knn__n_neighbors':[3,10,20,50,70,100,200]}  \n",
    "# pipeline.fit(x_train_vect,y_train)\n",
    "\n",
    "\n",
    "clf = GridSearchCV(pipeline,param_grid, cv=5)\n",
    "clf.fit(x_train_vect,y_train)\n",
    "\n",
    "print(clf.best_score_)\n",
    "print(clf.best_estimator_)"
   ]
  },
  {
   "cell_type": "code",
   "execution_count": 85,
   "id": "2dc6c2a9",
   "metadata": {},
   "outputs": [
    {
     "name": "stdout",
     "output_type": "stream",
     "text": [
      "select__percentile avg       \t50.0\n",
      "select__percentile std    \t 14.142135623730951\n",
      "knn__n_neighbors avg    \t 64.71428571428571\n",
      "knn__n_neighbors std        \t63.912248514694596\n"
     ]
    }
   ],
   "source": [
    "# 7.打印每个候选参数的平均值和标准差。\n",
    "print('select__percentile avg       \\t{}'.format(np.mean(param_grid['select__percentile'])))\n",
    "print('select__percentile std    \\t {}'.format(np.std(param_grid['select__percentile'])))\n",
    "print('knn__n_neighbors avg    \\t {}'.format(np.mean(param_grid['knn__n_neighbors'])))\n",
    "print('knn__n_neighbors std        \\t{}'.format(np.std(param_grid['knn__n_neighbors'])))"
   ]
  },
  {
   "cell_type": "code",
   "execution_count": 86,
   "id": "de328595",
   "metadata": {},
   "outputs": [],
   "source": [
    "# 8.在测试集上预测结果并保存在变量y_predicted中。\n",
    "y_predicted = clf.predict(x_test_vect)"
   ]
  },
  {
   "cell_type": "code",
   "execution_count": 87,
   "id": "35d7bb0e",
   "metadata": {},
   "outputs": [
    {
     "name": "stdout",
     "output_type": "stream",
     "text": [
      "              precision    recall  f1-score   support\n",
      "\n",
      "         neg       0.59      0.89      0.71       299\n",
      "         pos       0.78      0.39      0.52       301\n",
      "\n",
      "    accuracy                           0.64       600\n",
      "   macro avg       0.69      0.64      0.61       600\n",
      "weighted avg       0.69      0.64      0.61       600\n",
      "\n"
     ]
    }
   ],
   "source": [
    "# 9.打印分类报告，包括精确率、召回率等指标。\n",
    "print(metrics.classification_report(y_test, y_predicted,\n",
    "                                        target_names=dataset.target_names))"
   ]
  },
  {
   "cell_type": "code",
   "execution_count": 88,
   "id": "7f145e84",
   "metadata": {},
   "outputs": [
    {
     "name": "stdout",
     "output_type": "stream",
     "text": [
      "[[266  33]\n",
      " [184 117]]\n"
     ]
    },
    {
     "data": {
      "image/png": "[encoded data removed]",
      "text/plain": [
       "<Figure size 480x480 with 2 Axes>"
      ]
     },
     "metadata": {},
     "output_type": "display_data"
    }
   ],
   "source": [
    "# 10.打印和绘制混淆矩阵。\n",
    "cm = metrics.confusion_matrix(y_test, y_predicted)\n",
    "print(cm)\n",
    "\n",
    "plt.matshow(cm)\n",
    "# plt.colorbar()\n",
    "plt.imshow(cm, interpolation='nearest', cmap=plt.cm.Blues)\n",
    "plt.colorbar()\n",
    "plt.show()"
   ]
  },
  {
   "cell_type": "code",
   "execution_count": null,
   "id": "ccabecd4",
   "metadata": {},
   "outputs": [],
   "source": []
  },
  {
   "cell_type": "code",
   "execution_count": null,
   "id": "c5968b7a",
   "metadata": {},
   "outputs": [],
   "source": []
  }
 ],
 "metadata": {
  "kernelspec": {
   "display_name": "Python 3 (ipykernel)",
   "language": "python",
   "name": "python3"
  },
  "language_info": {
   "codemirror_mode": {
    "name": "ipython",
    "version": 3
   },
   "file_extension": ".py",
   "mimetype": "text/x-python",
   "name": "python",
   "nbconvert_exporter": "python",
   "pygments_lexer": "ipython3",
   "version": "3.8.8"
  }
 },
 "nbformat": 4,
 "nbformat_minor": 5
}
