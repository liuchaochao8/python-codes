{
 "cells": [
  {
   "cell_type": "code",
   "execution_count": 9,
   "id": "fdb83873",
   "metadata": {},
   "outputs": [
    {
     "name": "stdout",
     "output_type": "stream",
     "text": [
      "feature counts:\n",
      "{0: array([1, 2, 0, 4]), 1: array([1, 3, 3, 0])}\n"
     ]
    }
   ],
   "source": [
    "import numpy as np\n",
    "#将X，y赋值为np数组\n",
    "X = np.array([[0, 1, 0, 1], \n",
    "              [1, 1, 1, 0], \n",
    "              [0, 1, 1, 0], \n",
    "              [0, 0, 0, 1], \n",
    "              [0, 1, 1, 0], \n",
    "              [0, 1, 0, 1], \n",
    "              [1, 0, 0, 1]])\n",
    "y = np.array( [0, 1, 1, 0, 1, 0, 0])\n",
    "#对不同分类计算每个特征为1的数量\n",
    "counts = {}\n",
    "for label in np.unique(y):\n",
    "    counts[label] = X[y == label].sum(axis=0)\n",
    "print(\"feature counts:\\n{}\".format(counts))"
   ]
  },
  {
   "cell_type": "code",
   "execution_count": 10,
   "id": "6e90a254",
   "metadata": {},
   "outputs": [
    {
     "name": "stdout",
     "output_type": "stream",
     "text": [
      "要下雨啦，快收衣服啊！\n"
     ]
    },
    {
     "data": {
      "text/plain": [
       "array([1])"
      ]
     },
     "execution_count": 10,
     "metadata": {},
     "output_type": "execute_result"
    }
   ],
   "source": [
    "from sklearn.naive_bayes import BernoulliNB\n",
    "clf = BernoulliNB()\n",
    "clf.fit(X, y)\n",
    "#要进行预测的这一天，没有刮北风，也不闷热\n",
    "#但是多云，天气预报没有说有雨\n",
    "Next_Day = [[0, 0, 1, 0]]\n",
    "pre = clf.predict(Next_Day)\n",
    "if pre == [1]:\n",
    "    print(\"要下雨啦，快收衣服啊！\")\n",
    "else:\n",
    "    print(\"放心，又是一个艳阳天\")\n",
    "    \n",
    "pre    "
   ]
  },
  {
   "cell_type": "code",
   "execution_count": 11,
   "id": "44e59471",
   "metadata": {},
   "outputs": [
    {
     "name": "stdout",
     "output_type": "stream",
     "text": [
      "放心，又是一个艳阳天\n"
     ]
    }
   ],
   "source": [
    "Another_day = [[1, 1, 0, 1]]\n",
    "pre2 = clf.predict(Another_day)\n",
    "if pre2 == [1]:\n",
    "    print(\"要下雨啦，快收衣服啊！\")\n",
    "else:\n",
    "    print(\"放心，又是一个艳阳天\")"
   ]
  },
  {
   "cell_type": "code",
   "execution_count": 12,
   "id": "c5923251",
   "metadata": {},
   "outputs": [
    {
     "data": {
      "text/plain": [
       "array([[0.13848881, 0.86151119]])"
      ]
     },
     "execution_count": 12,
     "metadata": {},
     "output_type": "execute_result"
    }
   ],
   "source": [
    "clf.predict_proba(Next_Day)"
   ]
  },
  {
   "cell_type": "code",
   "execution_count": 13,
   "id": "2d55ddee",
   "metadata": {},
   "outputs": [
    {
     "data": {
      "text/plain": [
       "array([[0.92340878, 0.07659122]])"
      ]
     },
     "execution_count": 13,
     "metadata": {},
     "output_type": "execute_result"
    }
   ],
   "source": [
    "clf.predict_proba(Another_day)"
   ]
  },
  {
   "cell_type": "code",
   "execution_count": null,
   "id": "ff819acf",
   "metadata": {},
   "outputs": [],
   "source": []
  },
  {
   "cell_type": "code",
   "execution_count": null,
   "id": "b2e43a19",
   "metadata": {},
   "outputs": [],
   "source": [
    "练习\n",
    "1.一家公司想要根据客户在其网站上的统计信息和浏览行为来预测客户是否可能购买产品。\n",
    "该公司已经收集了一个包含10个客户的小数据集，每个客户有5个特征和一个二进制标签，表示他们是否购买了产品。\n",
    "使用伯努利朴素贝叶斯算法对客户进行分类，并根据其统计信息和浏览行为预测新客户是否可能购买。\n",
    "# define input data\n",
    "X = np.array([[1, 1, 1, 0, 0],\n",
    "              [0, 1, 1, 0, 0],\n",
    "              [1, 0, 1, 1, 0],\n",
    "              [0, 0, 0, 1, 1],\n",
    "              [0, 0, 0, 1, 1],\n",
    "              [0, 1, 0, 1, 1],\n",
    "              [1, 0, 0, 0, 0],\n",
    "              [1, 1, 1, 1, 0],\n",
    "              [0, 1, 0, 0, 1],\n",
    "              [1, 1, 1, 1, 1]])\n",
    "\n",
    "# define labels\n",
    "y = np.array([0, 0, 1, 1, 1, 0, 0, 1, 0, 1])\n",
    "\n",
    "# new customer\n",
    "new_customer = [[1, 0, 0, 1, 0]]"
   ]
  },
  {
   "cell_type": "code",
   "execution_count": 6,
   "id": "8c6692f5",
   "metadata": {},
   "outputs": [
    {
     "name": "stdout",
     "output_type": "stream",
     "text": [
      "feature counts:\n",
      "{0: array([2, 4, 2, 1, 2]), 1: array([3, 2, 3, 5, 3])}\n"
     ]
    }
   ],
   "source": [
    "import numpy as np\n",
    "X = np.array([[1, 1, 1, 0, 0],\n",
    "              [0, 1, 1, 0, 0],\n",
    "              [1, 0, 1, 1, 0],\n",
    "              [0, 0, 0, 1, 1],\n",
    "              [0, 0, 0, 1, 1],\n",
    "              [0, 1, 0, 1, 1],\n",
    "              [1, 0, 0, 0, 0],\n",
    "              [1, 1, 1, 1, 0],\n",
    "              [0, 1, 0, 0, 1],\n",
    "              [1, 1, 1, 1, 1]])\n",
    "\n",
    "# define labels\n",
    "y = np.array([0, 0, 1, 1, 1, 0, 0, 1, 0, 1])\n",
    "\n",
    "# new customer\n",
    "new_customer = [[1, 0, 0, 1, 0]]\n",
    "#对不同分类计算每个特征为1的数量\n",
    "counts = {}\n",
    "for label in np.unique(y):\n",
    "    counts[label] = X[y == label].sum(axis=0)\n",
    "print(\"feature counts:\\n{}\".format(counts))"
   ]
  },
  {
   "cell_type": "code",
   "execution_count": 7,
   "id": "c2f8450a",
   "metadata": {},
   "outputs": [
    {
     "name": "stdout",
     "output_type": "stream",
     "text": [
      "会买\n"
     ]
    }
   ],
   "source": [
    "from sklearn.naive_bayes import BernoulliNB\n",
    "clf = BernoulliNB()\n",
    "clf.fit(X, y)\n",
    "pre = clf.predict(new_customer)\n",
    "if pre == [1]:\n",
    "    print(\"会买\")\n",
    "else:\n",
    "    print(\"不会买\")"
   ]
  },
  {
   "cell_type": "code",
   "execution_count": null,
   "id": "322e9dea",
   "metadata": {},
   "outputs": [],
   "source": []
  }
 ],
 "metadata": {
  "kernelspec": {
   "display_name": "Python 3 (ipykernel)",
   "language": "python",
   "name": "python3"
  },
  "language_info": {
   "codemirror_mode": {
    "name": "ipython",
    "version": 3
   },
   "file_extension": ".py",
   "mimetype": "text/x-python",
   "name": "python",
   "nbconvert_exporter": "python",
   "pygments_lexer": "ipython3",
   "version": "3.8.8"
  }
 },
 "nbformat": 4,
 "nbformat_minor": 5
}
