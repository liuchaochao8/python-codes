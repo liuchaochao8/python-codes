{
 "cells": [
  {
   "cell_type": "code",
   "execution_count": null,
   "id": "6f7716eb",
   "metadata": {},
   "outputs": [],
   "source": [
    "params = [{'reg':[MLPRegressor(random_state=38)],\n",
    "           'scaler':[StandardScaler(),None]},\n",
    "         {'reg':[RandomForestRegressor(random_state=38)],\n",
    "         'scaler':[None]}]\n",
    "#下面对pipeline进行实例化\n",
    "pipe = Pipeline([('scaler',StandardScaler()),('reg',MLPRegressor())])\n",
    "grid = GridSearchCV(pipe, params, cv=3)\n",
    "grid.fit(X,y)\n",
    "\n",
    "print('最佳模型是：\\n{}'.format(grid.best_params_))\n",
    "print('\\n模型最佳得分是:{:.2f}'.format(grid.best_score_))"
   ]
  },
  {
   "cell_type": "code",
   "execution_count": null,
   "id": "73328104",
   "metadata": {},
   "outputs": [],
   "source": [
    "params = [{'reg':[MLPRegressor(random_state=38)],\n",
    "          'scaler':[StandardScaler(),None],\n",
    "          'reg__hidden_layer_sizes':[(50,),(100,),(100,100)]},\n",
    "         {'reg':[RandomForestRegressor(random_state=38)],\n",
    "         'scaler':[None],\n",
    "         'reg__n_estimators':[10,50,100]}]\n",
    "pipe = Pipeline([('scaler',StandardScaler()),('reg',MLPRegressor())])\n",
    "grid = GridSearchCV(pipe, params, cv=3)\n",
    "grid.fit(X,y)\n",
    "\n",
    "print('最佳模型是：\\n{}'.format(grid.best_params_))\n",
    "print('\\n模型最佳得分是:{:.2f}'.format(grid.best_score_))"
   ]
  },
  {
   "cell_type": "code",
   "execution_count": null,
   "id": "7a147302",
   "metadata": {},
   "outputs": [],
   "source": [
    "params = [{'reg':[MLPRegressor(random_state=38, max_iter=1000)],\n",
    "          'scaler':[StandardScaler(),None],\n",
    "          'reg__hidden_layer_sizes':[(50,),(100,),(100,100)]},\n",
    "         {'reg':[RandomForestRegressor(random_state=38)],\n",
    "         'scaler':[None],\n",
    "         'reg__n_estimators':[100,500,1000]}]\n",
    "pipe = Pipeline([('scaler',StandardScaler()),('reg',MLPRegressor())])\n",
    "grid = GridSearchCV(pipe, params, cv=3)\n",
    "grid.fit(X,y)\n",
    "\n",
    "print('最佳模型是：\\n{}'.format(grid.best_params_))\n",
    "print('\\n模型最佳得分是:{:.2f}'.format(grid.best_score_))"
   ]
  },
  {
   "cell_type": "markdown",
   "id": "252586f1",
   "metadata": {},
   "source": [
    "1.导入所需的库和数据集。\n",
    "2.将数据集拆分为训练集和测试集。\n",
    "3.使用管道模型构建回归模型，并通过交叉验证选择最佳的回归算法。\n",
    "4.在所选的回归算法上进行参数调优。\n",
    "5.使用最佳的回归模型在测试集上进行预测，并计算预测结果的均方误差（Mean Squared Error）。\n",
    "题目要求：\n",
    "使用sklearn的管道（Pipeline）模块来构建管道模型。\n",
    "使用sklearn的GridSearchCV来进行交叉验证和参数调优。\n",
    "可选的回归算法包括线性回归（LinearRegression）、岭回归（Ridge）、Lasso回归（Lasso）和决策树回归（DecisionTreeRegressor）等。\n",
    "请完成上述练习题，并给出你的代码实现和结果"
   ]
  },
  {
   "cell_type": "code",
   "execution_count": 16,
   "id": "ecd1e6b5",
   "metadata": {},
   "outputs": [],
   "source": [
    "import numpy as np\n",
    "import pandas as pd\n",
    "import matplotlib.pyplot as plt\n",
    "from sklearn.datasets import load_diabetes\n",
    "from sklearn.pipeline import Pipeline\n",
    "from sklearn.model_selection import cross_val_score\n",
    "from sklearn.feature_selection import SelectFromModel\n",
    "from sklearn.model_selection import train_test_split\n",
    "from sklearn.preprocessing import StandardScaler\n",
    "from sklearn.preprocessing import MinMaxScaler\n",
    "from sklearn.model_selection import GridSearchCV\n",
    "\n",
    "from sklearn.linear_model import LogisticRegression\n",
    "from sklearn.ensemble import RandomForestRegressor\n",
    "from sklearn.tree import DecisionTreeRegressor\n",
    "from sklearn.svm import SVR\n",
    "from sklearn.linear_model import LassoCV,LinearRegression, ElasticNetCV\n",
    "import warnings\n",
    "warnings.filterwarnings('ignore')"
   ]
  },
  {
   "cell_type": "code",
   "execution_count": 17,
   "id": "6192ab6d",
   "metadata": {},
   "outputs": [],
   "source": [
    "# 加载波士顿房价数据集\n",
    "boston = load_boston()\n",
    "X, y = boston.data, boston.target\n",
    "\n",
    "# 数据预处理\n",
    "scaler = StandardScaler()\n",
    "X = scaler.fit_transform(X)\n",
    "\n",
    "# 划分训练集和测试集\n",
    "X_train, X_test, y_train, y_test = train_test_split(X, y, test_size=0.2, random_state=42)"
   ]
  },
  {
   "cell_type": "code",
   "execution_count": 18,
   "id": "98017bef",
   "metadata": {},
   "outputs": [
    {
     "name": "stdout",
     "output_type": "stream",
     "text": [
      "最佳模型是：\n",
      "{'reg': RandomForestRegressor(random_state=38), 'scaler': StandardScaler()}\n",
      "\n",
      "模型最佳得分是:0.55078\n"
     ]
    }
   ],
   "source": [
    "params = [{'reg':[RandomForestRegressor(random_state=38)],\n",
    "           'scaler':[StandardScaler(),None]},\n",
    "          {'reg':[DecisionTreeRegressor(random_state=38)],\n",
    "           'scaler':[StandardScaler(),None]},\n",
    "          {'reg':[SVR()],\n",
    "           'scaler':[StandardScaler(),None]},\n",
    "          {'reg':[LassoCV(random_state=38)],\n",
    "           'scaler':[StandardScaler(),None]},\n",
    "          {'reg':[LinearRegression()],\n",
    "           'scaler':[StandardScaler(),None]},\n",
    "         {'reg':[ElasticNetCV(random_state=38)],\n",
    "         'scaler':[None]}]\n",
    "#下面对pipeline进行实例化\n",
    "pipe = Pipeline([('scaler',StandardScaler()),('reg',MLPRegressor())])\n",
    "grid = GridSearchCV(pipe, params, cv=3)\n",
    "grid.fit(X,y)\n",
    "\n",
    "print('最佳模型是：\\n{}'.format(grid.best_params_))\n",
    "print('\\n模型最佳得分是:{:.5f}'.format(grid.best_score_))"
   ]
  },
  {
   "cell_type": "code",
   "execution_count": 19,
   "id": "7c9160d4",
   "metadata": {},
   "outputs": [
    {
     "name": "stdout",
     "output_type": "stream",
     "text": [
      "最佳模型是：\n",
      "{'reg': RandomForestRegressor(random_state=38), 'reg__n_estimators': 100, 'scaler': None}\n",
      "\n",
      "模型最佳得分是:0.55029\n"
     ]
    }
   ],
   "source": [
    "params = [{'reg':[MLPRegressor(random_state=38)],\n",
    "          'scaler':[StandardScaler(),None],\n",
    "          'reg__hidden_layer_sizes':[(50,),(100,),(100,100)]},\n",
    "         {'reg':[RandomForestRegressor(random_state=38)],\n",
    "         'scaler':[None],\n",
    "         'reg__n_estimators':[10,50,100]}]\n",
    "pipe = Pipeline([('scaler',StandardScaler()),('reg',MLPRegressor())])\n",
    "grid = GridSearchCV(pipe, params, cv=3)\n",
    "grid.fit(X,y)\n",
    "\n",
    "print('最佳模型是：\\n{}'.format(grid.best_params_))\n",
    "print('\\n模型最佳得分是:{:.5f}'.format(grid.best_score_))"
   ]
  },
  {
   "cell_type": "code",
   "execution_count": 20,
   "id": "6f93beb5",
   "metadata": {},
   "outputs": [
    {
     "name": "stdout",
     "output_type": "stream",
     "text": [
      "最佳模型是：\n",
      "{'reg': RandomForestRegressor(n_estimators=1000, random_state=38), 'reg__n_estimators': 1000, 'scaler': None}\n",
      "\n",
      "模型最佳得分是:0.56\n"
     ]
    }
   ],
   "source": [
    "params = [{'reg':[MLPRegressor(random_state=38, max_iter=1000)],\n",
    "          'scaler':[StandardScaler(),None],\n",
    "          'reg__hidden_layer_sizes':[(50,),(100,),(100,100)]},\n",
    "         {'reg':[RandomForestRegressor(random_state=38)],\n",
    "         'scaler':[None],\n",
    "         'reg__n_estimators':[100,500,1000]}]\n",
    "pipe = Pipeline([('scaler',StandardScaler()),('reg',MLPRegressor())])\n",
    "grid = GridSearchCV(pipe, params, cv=3)\n",
    "grid.fit(X,y)\n",
    "\n",
    "print('最佳模型是：\\n{}'.format(grid.best_params_))\n",
    "print('\\n模型最佳得分是:{:.2f}'.format(grid.best_score_))"
   ]
  },
  {
   "cell_type": "code",
   "execution_count": null,
   "id": "9973a735",
   "metadata": {},
   "outputs": [],
   "source": []
  },
  {
   "cell_type": "code",
   "execution_count": null,
   "id": "c6c0195b",
   "metadata": {},
   "outputs": [],
   "source": []
  }
 ],
 "metadata": {
  "kernelspec": {
   "display_name": "Python 3 (ipykernel)",
   "language": "python",
   "name": "python3"
  },
  "language_info": {
   "codemirror_mode": {
    "name": "ipython",
    "version": 3
   },
   "file_extension": ".py",
   "mimetype": "text/x-python",
   "name": "python",
   "nbconvert_exporter": "python",
   "pygments_lexer": "ipython3",
   "version": "3.8.8"
  }
 },
 "nbformat": 4,
 "nbformat_minor": 5
}
