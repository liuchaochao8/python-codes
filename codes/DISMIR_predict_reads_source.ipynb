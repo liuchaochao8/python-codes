{
 "cells": [
  {
   "cell_type": "code",
   "execution_count": 16,
   "id": "ff64f625-c520-41c3-b0b3-8a75adf7dad2",
   "metadata": {},
   "outputs": [],
   "source": [
    "import numpy as np\n",
    "import random\n",
    "import os\n",
    "import os.path\n",
    "import re\n",
    "\n",
    "from keras.models import Sequential\n",
    "from keras import layers\n",
    "from keras.callbacks import EarlyStopping, ModelCheckpoint\n",
    "from keras import optimizers\n",
    "import tensorflow as tf"
   ]
  },
  {
   "cell_type": "code",
   "execution_count": 17,
   "id": "b0a3103d-71cf-4e3f-ae00-dc580e54f702",
   "metadata": {},
   "outputs": [],
   "source": [
    "def file_name(file_dir):\n",
    "    for root, dirs, files in os.walk(file_dir):\n",
    "        return files"
   ]
  },
  {
   "cell_type": "code",
   "execution_count": 18,
   "id": "fa9829c5-0442-451a-be56-65a95daeb987",
   "metadata": {},
   "outputs": [],
   "source": [
    "# transform sequence into number for storage (A/T/C/G to 0/1/2/3, methylated C to 4)\n",
    "def lstm_seq(seq, methy):\n",
    "    i = 0\n",
    "    lstmseq = np.zeros((len(seq), 66), dtype='int')\n",
    "    while i < len(seq):\n",
    "        tmp = seq[i]\n",
    "        j = 0\n",
    "        while j < len(tmp):\n",
    "            if tmp[j] == 'A':\n",
    "                lstmseq[i, j] = 0\n",
    "            elif tmp[j] == 'T':\n",
    "                lstmseq[i, j] = 1\n",
    "            elif tmp[j] == 'C':\n",
    "                lstmseq[i, j] = 2\n",
    "            else:\n",
    "                lstmseq[i, j] = 3\n",
    "            if int(methy[i][j]) == 1:\n",
    "                lstmseq[i, j] = 4\n",
    "            j = j + 1\n",
    "        i = i + 1\n",
    "    return lstmseq\n",
    "\n",
    "\n",
    "# transform sequence into one-hot code (0/1/2/3 to one-hot) and add methylation state channel\n",
    "def conv_onehot(seq):\n",
    "    module = np.array([[1, 0, 0, 0, 0], [0, 1, 0, 0, 0], [0, 0, 1, 0, 0], [0, 0, 0, 1, 0], [0, 0, 1, 0, 1]])\n",
    "    onehot = np.zeros((len(seq), 66, 5), dtype='int')\n",
    "    for i in range(len(seq)):\n",
    "        tmp = seq[i]\n",
    "        tmp_onehot = np.zeros((66, 5), dtype='int')\n",
    "        for j in range(len(tmp)):\n",
    "            if tmp[j] == 0:\n",
    "                tmp_onehot[j] = module[0]\n",
    "            elif tmp[j] == 1:\n",
    "                tmp_onehot[j] = module[1]\n",
    "            elif tmp[j] == 2:\n",
    "                tmp_onehot[j] = module[2]\n",
    "            elif tmp[j] == 3:\n",
    "                tmp_onehot[j] = module[3]\n",
    "            else:\n",
    "                tmp_onehot[j] = module[4]\n",
    "        onehot[i] = tmp_onehot\n",
    "    return onehot\n",
    "\n",
    "\n",
    "# deep learning model\n",
    "def DISMIR_deep():\n",
    "    model = Sequential()\n",
    "    model.add(layers.Convolution1D(input_shape=(66, 5),\n",
    "                                   nb_filter=100,\n",
    "                                   filter_length=10,\n",
    "                                   border_mode=\"same\",\n",
    "                                   activation=\"relu\",\n",
    "                                   subsample_length=1))\n",
    "    model.add(layers.MaxPooling1D(pool_length=2, stride=2))\n",
    "    model.add(layers.Dropout(0.2))\n",
    "    model.add(layers.Bidirectional(layers.LSTM(33, return_sequences=True)))\n",
    "    model.add(layers.Convolution1D(input_shape=(33, 132),\n",
    "                                   nb_filter=100,\n",
    "                                   filter_length=3,\n",
    "                                   border_mode=\"same\",\n",
    "                                   activation=\"relu\",\n",
    "                                   subsample_length=1))\n",
    "    model.add(layers.MaxPooling1D(pool_length=2, stride=2))\n",
    "    model.add(layers.Dropout(0.2))\n",
    "    model.add(layers.Flatten())\n",
    "    model.add(layers.Dense(750, activation='relu', kernel_regularizer=None, bias_regularizer=None))\n",
    "    model.add(layers.Dropout(0.2))\n",
    "    model.add(layers.Dense(300, activation='relu', kernel_regularizer=None, bias_regularizer=None))\n",
    "    model.add(layers.Dense(1, activation='sigmoid', kernel_regularizer=None, bias_regularizer=None))\n",
    "    return model"
   ]
  },
  {
   "cell_type": "code",
   "execution_count": 19,
   "id": "300a0a78-70c8-4e54-8080-bdd830e7a872",
   "metadata": {},
   "outputs": [],
   "source": [
    "train_dir = 'D:\\\\liuchaochao\\\\桌面\\\\DISMIR\\\\train_dir\\\\'\n",
    "# directory where the model is saved\n",
    "file_dir = 'D:\\\\liuchaochao\\\\桌面\\\\DISMIR\\\\test_data\\\\'\n",
    "# directory where the sample to test is saved, format same as training data\n",
    "store_dir = 'D:\\\\liuchaochao\\\\桌面\\\\DISMIR\\\\store_dir\\\\' \n",
    "# directory to save predicted d-scores of reads"
   ]
  },
  {
   "cell_type": "code",
   "execution_count": 20,
   "id": "b56781e2-bb0f-4f5f-be1e-0879faa7a6d0",
   "metadata": {},
   "outputs": [
    {
     "name": "stderr",
     "output_type": "stream",
     "text": [
      "C:\\Users\\Administrator\\AppData\\Local\\Temp\\ipykernel_19336\\1673830745.py:49: UserWarning: Update your `Conv1D` call to the Keras 2 API: `Conv1D(input_shape=(66, 5), activation=\"relu\", filters=100, kernel_size=10, strides=1, padding=\"same\")`\n",
      "  model.add(layers.Convolution1D(input_shape=(66, 5),\n",
      "C:\\Users\\Administrator\\AppData\\Local\\Temp\\ipykernel_19336\\1673830745.py:55: UserWarning: Update your `MaxPooling1D` call to the Keras 2 API: `MaxPooling1D(pool_size=2, strides=2)`\n",
      "  model.add(layers.MaxPooling1D(pool_length=2, stride=2))\n",
      "C:\\Users\\Administrator\\AppData\\Local\\Temp\\ipykernel_19336\\1673830745.py:58: UserWarning: Update your `Conv1D` call to the Keras 2 API: `Conv1D(input_shape=(33, 132), activation=\"relu\", filters=100, kernel_size=3, strides=1, padding=\"same\")`\n",
      "  model.add(layers.Convolution1D(input_shape=(33, 132),\n",
      "C:\\Users\\Administrator\\AppData\\Local\\Temp\\ipykernel_19336\\1673830745.py:64: UserWarning: Update your `MaxPooling1D` call to the Keras 2 API: `MaxPooling1D(pool_size=2, strides=2)`\n",
      "  model.add(layers.MaxPooling1D(pool_length=2, stride=2))\n"
     ]
    }
   ],
   "source": [
    "if __name__ == '__main__':\n",
    "    gpus = tf.config.experimental.list_physical_devices(device_type='GPU')\n",
    "    for gpu in gpus:\n",
    "        tf.config.experimental.set_memory_growth(gpu, True)\n",
    "    model = DISMIR_deep()\n",
    "    model.load_weights(train_dir + 'weight.h5')\n",
    "\n",
    "    files = file_name(file_dir)\n",
    "    for file in files:\n",
    "        input = open(file_dir + file,'r')\n",
    "        seq = []\n",
    "        methy = []\n",
    "        for item in input:\n",
    "            item = item.split()\n",
    "            cpg = 0\n",
    "            for i in range(len(item[2]) - 1):\n",
    "                if (item[2][i] == 'C') & (item[2][i + 1] == 'G'):\n",
    "                    cpg = cpg + 1\n",
    "            if cpg > 2:\n",
    "                seq.append(item[2])\n",
    "                methy.append(item[3])\n",
    "        input.close()\n",
    "        seq_lstm = lstm_seq(seq, methy)\n",
    "        seq_3one_hot = conv_onehot(seq_lstm)\n",
    "        result = model.predict(seq_3one_hot, verbose=0)\n",
    "        np.savetxt(store_dir + 'result_' + file + '.txt', result)"
   ]
  },
  {
   "cell_type": "code",
   "execution_count": null,
   "id": "8b256e88-aa3c-4661-bb75-92b84e959a95",
   "metadata": {},
   "outputs": [],
   "source": []
  },
  {
   "cell_type": "code",
   "execution_count": null,
   "id": "c69dc610-7b5d-4348-bfa0-5b2a6a3f07ba",
   "metadata": {},
   "outputs": [],
   "source": []
  }
 ],
 "metadata": {
  "kernelspec": {
   "display_name": "Python 3 (ipykernel)",
   "language": "python",
   "name": "python3"
  },
  "language_info": {
   "codemirror_mode": {
    "name": "ipython",
    "version": 3
   },
   "file_extension": ".py",
   "mimetype": "text/x-python",
   "name": "python",
   "nbconvert_exporter": "python",
   "pygments_lexer": "ipython3",
   "version": "3.8.18"
  }
 },
 "nbformat": 4,
 "nbformat_minor": 5
}
