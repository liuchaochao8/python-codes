{
 "cells": [
  {
   "cell_type": "code",
   "execution_count": 2,
   "id": "d6c69ae2",
   "metadata": {},
   "outputs": [],
   "source": [
    "from sklearn.linear_model import Lasso\n",
    "from sklearn.model_selection import train_test_split\n",
    "from sklearn.datasets import load_wine\n",
    "from sklearn.model_selection import cross_val_score\n",
    "from sklearn.svm import SVC\n",
    "import warnings\n",
    "warnings.filterwarnings('ignore')\n",
    "\n",
    "wine = load_wine()\n",
    "X_train, X_test, y_train, y_test=train_test_split(wine.data, \n",
    "                                                 wine.target,\n",
    "                                                 random_state=38)\n"
   ]
  },
  {
   "cell_type": "code",
   "execution_count": null,
   "id": "9ce28e1c",
   "metadata": {},
   "outputs": [],
   "source": [
    "best_score = 0\n",
    "for alpha in [0.01,0.1,1.0,10.0]:\n",
    "    for max_iter in [100,1000,5000,10000]:\n",
    "        lasso = Lasso(alpha=alpha,max_iter=max_iter)\n",
    "        lasso.fit(X_train, y_train)\n",
    "        score = lasso.score(X_test, y_test)\n",
    "        if score > best_score:\n",
    "            best_score = score\n",
    "            best_parameters={'alpha':alpha,'最大迭代次数':max_iter}\n",
    "            \n",
    "print(\"模型最高分为：{:.3f}\".format(best_score))\n",
    "print('最佳参数设置：{}'.format(best_parameters))"
   ]
  },
  {
   "cell_type": "code",
   "execution_count": 3,
   "id": "67d1892b",
   "metadata": {},
   "outputs": [
    {
     "name": "stdout",
     "output_type": "stream",
     "text": [
      "模型最高分为：0.830\n",
      "最佳参数设置：{'alpha': 0.1, '最大迭代次数': 100}\n"
     ]
    }
   ],
   "source": [
    "from sklearn.linear_model import Lasso\n",
    "from sklearn.model_selection import train_test_split\n",
    "X_train, X_test, y_train, y_test=train_test_split(wine.data, \n",
    "                                                 wine.target,\n",
    "                                                 random_state=0)\n",
    "best_score = 0\n",
    "for alpha in [0.01,0.1,1.0,10.0]:\n",
    "    for max_iter in [100,1000,5000,10000]:\n",
    "        lasso = Lasso(alpha=alpha,max_iter=max_iter)\n",
    "        lasso.fit(X_train, y_train)\n",
    "        score = lasso.score(X_test, y_test)\n",
    "        if score > best_score:\n",
    "            best_score = score\n",
    "            best_parameters={'alpha':alpha,'最大迭代次数':max_iter}\n",
    "print(\"模型最高分为：{:.3f}\".format(best_score))\n",
    "print('最佳参数设置：{}'.format(best_parameters))            "
   ]
  },
  {
   "cell_type": "code",
   "execution_count": 4,
   "id": "53abdbdb",
   "metadata": {},
   "outputs": [
    {
     "name": "stdout",
     "output_type": "stream",
     "text": [
      "模型最高分为：0.865\n",
      "最佳参数设置：{'alpha': 0.01, '最大迭代数': 100}\n"
     ]
    }
   ],
   "source": [
    "import numpy as np\n",
    "for alpha in [0.01,0.1,1.0,10.0]:\n",
    "    for max_iter in [100,1000,5000,10000]:\n",
    "        lasso = Lasso(alpha=alpha,max_iter=max_iter)\n",
    "        scores = cross_val_score(lasso, X_train, y_train, cv=6)\n",
    "        score = np.mean(scores)\n",
    "        if score > best_score:\n",
    "            best_score = score\n",
    "            best_parameters={'alpha':alpha, '最大迭代数':max_iter}\n",
    "            \n",
    "print(\"模型最高分为：{:.3f}\".format(best_score))\n",
    "print('最佳参数设置：{}'.format(best_parameters))"
   ]
  },
  {
   "cell_type": "code",
   "execution_count": 5,
   "id": "1fab9df0",
   "metadata": {},
   "outputs": [
    {
     "name": "stdout",
     "output_type": "stream",
     "text": [
      "测试数据集得分：0.819\n"
     ]
    }
   ],
   "source": [
    "lasso = Lasso(alpha=0.01, max_iter=100).fit(X_train, y_train)\n",
    "print('测试数据集得分：{:.3f}'.format(lasso.score(X_test,y_test)))"
   ]
  },
  {
   "cell_type": "code",
   "execution_count": 2,
   "id": "9023c5d7",
   "metadata": {},
   "outputs": [
    {
     "ename": "NameError",
     "evalue": "name 'lasso' is not defined",
     "output_type": "error",
     "traceback": [
      "\u001b[1;31m---------------------------------------------------------------------------\u001b[0m",
      "\u001b[1;31mNameError\u001b[0m                                 Traceback (most recent call last)",
      "Cell \u001b[1;32mIn[2], line 4\u001b[0m\n\u001b[0;32m      1\u001b[0m \u001b[38;5;28;01mfrom\u001b[39;00m \u001b[38;5;21;01msklearn\u001b[39;00m\u001b[38;5;21;01m.\u001b[39;00m\u001b[38;5;21;01mmodel_selection\u001b[39;00m \u001b[38;5;28;01mimport\u001b[39;00m GridSearchCV\n\u001b[0;32m      2\u001b[0m params \u001b[38;5;241m=\u001b[39m {\u001b[38;5;124m'\u001b[39m\u001b[38;5;124malpha\u001b[39m\u001b[38;5;124m'\u001b[39m:[\u001b[38;5;241m0.01\u001b[39m,\u001b[38;5;241m0.1\u001b[39m,\u001b[38;5;241m1.0\u001b[39m,\u001b[38;5;241m10.0\u001b[39m],\n\u001b[0;32m      3\u001b[0m          \u001b[38;5;124m'\u001b[39m\u001b[38;5;124mmax_iter\u001b[39m\u001b[38;5;124m'\u001b[39m:[\u001b[38;5;241m100\u001b[39m,\u001b[38;5;241m1000\u001b[39m,\u001b[38;5;241m5000\u001b[39m,\u001b[38;5;241m10000\u001b[39m]}\n\u001b[1;32m----> 4\u001b[0m grid_search \u001b[38;5;241m=\u001b[39m GridSearchCV(\u001b[43mlasso\u001b[49m,params,cv\u001b[38;5;241m=\u001b[39m\u001b[38;5;241m6\u001b[39m)\n\u001b[0;32m      5\u001b[0m grid_search\u001b[38;5;241m.\u001b[39mfit(X_train, y_train)\n\u001b[0;32m      6\u001b[0m \u001b[38;5;28mprint\u001b[39m(\u001b[38;5;124m'\u001b[39m\u001b[38;5;124m模型最高分：\u001b[39m\u001b[38;5;132;01m{:.3f}\u001b[39;00m\u001b[38;5;124m'\u001b[39m\u001b[38;5;241m.\u001b[39mformat(grid_search\u001b[38;5;241m.\u001b[39mscore(X_test, y_test)))\n",
      "\u001b[1;31mNameError\u001b[0m: name 'lasso' is not defined"
     ]
    }
   ],
   "source": [
    "from sklearn.model_selection import GridSearchCV\n",
    "params = {'alpha':[0.01,0.1,1.0,10.0],\n",
    "         'max_iter':[100,1000,5000,10000]}\n",
    "grid_search = GridSearchCV(lasso,params,cv=6)\n",
    "grid_search.fit(X_train, y_train)\n",
    "print('模型最高分：{:.3f}'.format(grid_search.score(X_test, y_test)))\n",
    "print('最优参数：{}'.format(grid_search.best_params_))\n",
    "print('交叉验证最高得分：{:.3f}'.format(grid_search.best_score_))"
   ]
  },
  {
   "cell_type": "code",
   "execution_count": null,
   "id": "4a61bc13",
   "metadata": {},
   "outputs": [],
   "source": []
  },
  {
   "cell_type": "markdown",
   "id": "3a93a41f",
   "metadata": {},
   "source": [
    "使用网格搜索优化决策树模型参数，使模型在鸢尾花数据集上的交叉验证得分最高。请按照以下步骤进行操作：\n",
    "\n",
    "1.从 scikit-learn 中导入 iris 数据集。\n",
    "\n",
    "2.将 iris 数据集随机划分为训练集和测试集，其中测试集大小为数据集大小的 30%。\n",
    "\n",
    "3.定义决策树模型，并通过交叉验证寻找最佳模型参数组合。模型参数组合包括以下两个参数：\n",
    "criterion：用于衡量节点分裂的质量。可选值包括 \"gini\" 和 \"entropy\"。\n",
    "max_depth：决策树的最大深度，用于控制树的复杂度。 \n",
    "搜索的参数组合为：\n",
    "criterion：[\"gini\", \"entropy\"]\n",
    "max_depth：[2, 3, 4, 5, 6, 7, 8, 9, 10]\n",
    "\n",
    "4.使用最佳参数组合在整个训练集上重新训练模型，并在测试集上计算模型得分。输出测试集得分以及最佳参数组合。\n",
    "\n",
    "5.（选做）尝试使用随机搜索、贝叶斯优化或遗传算法等其他超参数优化方法，与网格搜索进行比较并尝试找到更优的超参数组合。"
   ]
  },
  {
   "cell_type": "code",
   "execution_count": 3,
   "id": "e4001778",
   "metadata": {},
   "outputs": [],
   "source": [
    "from sklearn.datasets import load_iris\n",
    "iris = load_iris()\n",
    "X = iris.data\n",
    "y = iris.target\n",
    "\n",
    "X_train, X_test, y_train, y_test=train_test_split(iris.data, \n",
    "                                                 iris.target,\n",
    "                                                 test_size=0.3)"
   ]
  },
  {
   "cell_type": "code",
   "execution_count": 4,
   "id": "e204bf1a",
   "metadata": {},
   "outputs": [
    {
     "data": {
      "text/html": [
       "<style>#sk-container-id-1 {color: black;background-color: white;}#sk-container-id-1 pre{padding: 0;}#sk-container-id-1 div.sk-toggleable {background-color: white;}#sk-container-id-1 label.sk-toggleable__label {cursor: pointer;display: block;width: 100%;margin-bottom: 0;padding: 0.3em;box-sizing: border-box;text-align: center;}#sk-container-id-1 label.sk-toggleable__label-arrow:before {content: \"▸\";float: left;margin-right: 0.25em;color: #696969;}#sk-container-id-1 label.sk-toggleable__label-arrow:hover:before {color: black;}#sk-container-id-1 div.sk-estimator:hover label.sk-toggleable__label-arrow:before {color: black;}#sk-container-id-1 div.sk-toggleable__content {max-height: 0;max-width: 0;overflow: hidden;text-align: left;background-color: #f0f8ff;}#sk-container-id-1 div.sk-toggleable__content pre {margin: 0.2em;color: black;border-radius: 0.25em;background-color: #f0f8ff;}#sk-container-id-1 input.sk-toggleable__control:checked~div.sk-toggleable__content {max-height: 200px;max-width: 100%;overflow: auto;}#sk-container-id-1 input.sk-toggleable__control:checked~label.sk-toggleable__label-arrow:before {content: \"▾\";}#sk-container-id-1 div.sk-estimator input.sk-toggleable__control:checked~label.sk-toggleable__label {background-color: #d4ebff;}#sk-container-id-1 div.sk-label input.sk-toggleable__control:checked~label.sk-toggleable__label {background-color: #d4ebff;}#sk-container-id-1 input.sk-hidden--visually {border: 0;clip: rect(1px 1px 1px 1px);clip: rect(1px, 1px, 1px, 1px);height: 1px;margin: -1px;overflow: hidden;padding: 0;position: absolute;width: 1px;}#sk-container-id-1 div.sk-estimator {font-family: monospace;background-color: #f0f8ff;border: 1px dotted black;border-radius: 0.25em;box-sizing: border-box;margin-bottom: 0.5em;}#sk-container-id-1 div.sk-estimator:hover {background-color: #d4ebff;}#sk-container-id-1 div.sk-parallel-item::after {content: \"\";width: 100%;border-bottom: 1px solid gray;flex-grow: 1;}#sk-container-id-1 div.sk-label:hover label.sk-toggleable__label {background-color: #d4ebff;}#sk-container-id-1 div.sk-serial::before {content: \"\";position: absolute;border-left: 1px solid gray;box-sizing: border-box;top: 0;bottom: 0;left: 50%;z-index: 0;}#sk-container-id-1 div.sk-serial {display: flex;flex-direction: column;align-items: center;background-color: white;padding-right: 0.2em;padding-left: 0.2em;position: relative;}#sk-container-id-1 div.sk-item {position: relative;z-index: 1;}#sk-container-id-1 div.sk-parallel {display: flex;align-items: stretch;justify-content: center;background-color: white;position: relative;}#sk-container-id-1 div.sk-item::before, #sk-container-id-1 div.sk-parallel-item::before {content: \"\";position: absolute;border-left: 1px solid gray;box-sizing: border-box;top: 0;bottom: 0;left: 50%;z-index: -1;}#sk-container-id-1 div.sk-parallel-item {display: flex;flex-direction: column;z-index: 1;position: relative;background-color: white;}#sk-container-id-1 div.sk-parallel-item:first-child::after {align-self: flex-end;width: 50%;}#sk-container-id-1 div.sk-parallel-item:last-child::after {align-self: flex-start;width: 50%;}#sk-container-id-1 div.sk-parallel-item:only-child::after {width: 0;}#sk-container-id-1 div.sk-dashed-wrapped {border: 1px dashed gray;margin: 0 0.4em 0.5em 0.4em;box-sizing: border-box;padding-bottom: 0.4em;background-color: white;}#sk-container-id-1 div.sk-label label {font-family: monospace;font-weight: bold;display: inline-block;line-height: 1.2em;}#sk-container-id-1 div.sk-label-container {text-align: center;}#sk-container-id-1 div.sk-container {/* jupyter's `normalize.less` sets `[hidden] { display: none; }` but bootstrap.min.css set `[hidden] { display: none !important; }` so we also need the `!important` here to be able to override the default hidden behavior on the sphinx rendered scikit-learn.org. See: https://github.com/scikit-learn/scikit-learn/issues/21755 */display: inline-block !important;position: relative;}#sk-container-id-1 div.sk-text-repr-fallback {display: none;}</style><div id=\"sk-container-id-1\" class=\"sk-top-container\"><div class=\"sk-text-repr-fallback\"><pre>GridSearchCV(cv=5, estimator=DecisionTreeClassifier(),\n",
       "             param_grid={&#x27;criterion&#x27;: [&#x27;gini&#x27;, &#x27;entropy&#x27;],\n",
       "                         &#x27;max_depth&#x27;: [2, 3, 4, 5, 6, 7, 8, 9, 10]})</pre><b>In a Jupyter environment, please rerun this cell to show the HTML representation or trust the notebook. <br />On GitHub, the HTML representation is unable to render, please try loading this page with nbviewer.org.</b></div><div class=\"sk-container\" hidden><div class=\"sk-item sk-dashed-wrapped\"><div class=\"sk-label-container\"><div class=\"sk-label sk-toggleable\"><input class=\"sk-toggleable__control sk-hidden--visually\" id=\"sk-estimator-id-1\" type=\"checkbox\" ><label for=\"sk-estimator-id-1\" class=\"sk-toggleable__label sk-toggleable__label-arrow\">GridSearchCV</label><div class=\"sk-toggleable__content\"><pre>GridSearchCV(cv=5, estimator=DecisionTreeClassifier(),\n",
       "             param_grid={&#x27;criterion&#x27;: [&#x27;gini&#x27;, &#x27;entropy&#x27;],\n",
       "                         &#x27;max_depth&#x27;: [2, 3, 4, 5, 6, 7, 8, 9, 10]})</pre></div></div></div><div class=\"sk-parallel\"><div class=\"sk-parallel-item\"><div class=\"sk-item\"><div class=\"sk-label-container\"><div class=\"sk-label sk-toggleable\"><input class=\"sk-toggleable__control sk-hidden--visually\" id=\"sk-estimator-id-2\" type=\"checkbox\" ><label for=\"sk-estimator-id-2\" class=\"sk-toggleable__label sk-toggleable__label-arrow\">estimator: DecisionTreeClassifier</label><div class=\"sk-toggleable__content\"><pre>DecisionTreeClassifier()</pre></div></div></div><div class=\"sk-serial\"><div class=\"sk-item\"><div class=\"sk-estimator sk-toggleable\"><input class=\"sk-toggleable__control sk-hidden--visually\" id=\"sk-estimator-id-3\" type=\"checkbox\" ><label for=\"sk-estimator-id-3\" class=\"sk-toggleable__label sk-toggleable__label-arrow\">DecisionTreeClassifier</label><div class=\"sk-toggleable__content\"><pre>DecisionTreeClassifier()</pre></div></div></div></div></div></div></div></div></div></div>"
      ],
      "text/plain": [
       "GridSearchCV(cv=5, estimator=DecisionTreeClassifier(),\n",
       "             param_grid={'criterion': ['gini', 'entropy'],\n",
       "                         'max_depth': [2, 3, 4, 5, 6, 7, 8, 9, 10]})"
      ]
     },
     "execution_count": 4,
     "metadata": {},
     "output_type": "execute_result"
    }
   ],
   "source": [
    "from sklearn.model_selection import GridSearchCV\n",
    "from sklearn import tree\n",
    "\n",
    "\n",
    "dtree = tree.DecisionTreeClassifier()#.fit(X_train,y_train)\n",
    "\n",
    "\n",
    "params = {'criterion':[\"gini\", \"entropy\"],\n",
    "          'max_depth':[2, 3, 4, 5, 6, 7, 8, 9, 10]}\n",
    "grid_search = GridSearchCV(dtree,params,cv=5)\n",
    "grid_search.fit(X_train, y_train)\n",
    "# print('模型最高分：{:.3f}'.format(grid_search.score(X_test, y_test)))\n",
    "# print('最优参数：{}'.format(grid_search.best_params_))\n",
    "# print('交叉验证最高得分：{:.3f}'.format(grid_search.best_score_))"
   ]
  },
  {
   "cell_type": "code",
   "execution_count": 5,
   "id": "e2e5d862",
   "metadata": {},
   "outputs": [
    {
     "name": "stdout",
     "output_type": "stream",
     "text": [
      "DecisionTree网格搜索测试集得分：\n",
      "0.9777777777777777\n",
      "网格搜索最优参数：{'criterion': 'gini', 'max_depth': 3}\n"
     ]
    }
   ],
   "source": [
    "dtreep = tree.DecisionTreeClassifier(max_depth=grid_search.best_params_['max_depth'],\n",
    "                                     criterion=grid_search.best_params_['criterion'])\n",
    "dtreep.fit(X_train,y_train)\n",
    "print('DecisionTree网格搜索测试集得分：\\n{}'.format(dtreep.score(X_test,y_test)))\n",
    "print('网格搜索最优参数：{}'.format(grid_search.best_params_))"
   ]
  },
  {
   "cell_type": "markdown",
   "id": "1881dbd1",
   "metadata": {},
   "source": [
    "## 5.（选做）尝试使用随机搜索、贝叶斯优化或遗传算法等其他超参数优化方法， 与网格搜索进行比较并尝试找到更优的超参数组合。"
   ]
  },
  {
   "cell_type": "code",
   "execution_count": 6,
   "id": "3836dcdc",
   "metadata": {},
   "outputs": [
    {
     "name": "stdout",
     "output_type": "stream",
     "text": [
      "DecisionTree随机搜索测试集得分：\n",
      "0.9777777777777777\n",
      "随机搜索最优参数：{'max_depth': 3, 'criterion': 'entropy'}\n"
     ]
    }
   ],
   "source": [
    "# 随机搜索\n",
    "from scipy.stats import randint as sp_randint \n",
    "from sklearn.model_selection import RandomizedSearchCV \n",
    "from sklearn.ensemble import RandomForestClassifier \n",
    "\n",
    "dtree = tree.DecisionTreeClassifier()\n",
    "# 给定参数搜索范围：list or distribution \n",
    "param_dist = {\"max_depth\":  [2, 3, 4, 5, 6, 7, 8, 9, 10],  # 给定list \n",
    "              \"criterion\": [\"gini\", \"entropy\"]}  # 给定list \n",
    "# 用RandomSearch+CV选取超参数 \n",
    "              \n",
    "random_search = RandomizedSearchCV(dtree, param_dist,cv=5,scoring='accuracy') \n",
    "random_search.fit(X_train,y_train)\n",
    "print('DecisionTree随机搜索测试集得分：\\n{}'.format(random_search.score(X_test,y_test)))\n",
    "print('随机搜索最优参数：{}'.format(random_search.best_params_))\n"
   ]
  },
  {
   "cell_type": "code",
   "execution_count": null,
   "id": "cdef8682",
   "metadata": {},
   "outputs": [],
   "source": []
  },
  {
   "cell_type": "code",
   "execution_count": null,
   "id": "8c60f565",
   "metadata": {},
   "outputs": [],
   "source": [
    "#遗传算法"
   ]
  }
 ],
 "metadata": {
  "kernelspec": {
   "display_name": "Python 3 (ipykernel)",
   "language": "python",
   "name": "python3"
  },
  "language_info": {
   "codemirror_mode": {
    "name": "ipython",
    "version": 3
   },
   "file_extension": ".py",
   "mimetype": "text/x-python",
   "name": "python",
   "nbconvert_exporter": "python",
   "pygments_lexer": "ipython3",
   "version": "3.8.8"
  }
 },
 "nbformat": 4,
 "nbformat_minor": 5
}
