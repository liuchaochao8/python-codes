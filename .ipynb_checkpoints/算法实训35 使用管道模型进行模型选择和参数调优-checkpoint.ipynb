{
 "cells": [
  {
   "cell_type": "code",
   "execution_count": null,
   "id": "a74b60d3",
   "metadata": {},
   "outputs": [],
   "source": [
    "params = [{'reg':[MLPRegressor(random_state=38)],\n",
    "           'scaler':[StandardScaler(),None]},\n",
    "         {'reg':[RandomForestRegressor(random_state=38)],\n",
    "         'scaler':[None]}]\n",
    "#下面对pipeline进行实例化\n",
    "pipe = Pipeline([('scaler',StandardScaler()),('reg',MLPRegressor())])\n",
    "grid = GridSearchCV(pipe, params, cv=3)\n",
    "grid.fit(X,y)\n",
    "\n",
    "print('最佳模型是：\\n{}'.format(grid.best_params_))\n",
    "print('\\n模型最佳得分是:{:.2f}'.format(grid.best_score_))"
   ]
  },
  {
   "cell_type": "code",
   "execution_count": null,
   "id": "8fe16b92",
   "metadata": {},
   "outputs": [],
   "source": [
    "params = [{'reg':[MLPRegressor(random_state=38)],\n",
    "          'scaler':[StandardScaler(),None],\n",
    "          'reg__hidden_layer_sizes':[(50,),(100,),(100,100)]},\n",
    "         {'reg':[RandomForestRegressor(random_state=38)],\n",
    "         'scaler':[None],\n",
    "         'reg__n_estimators':[10,50,100]}]\n",
    "pipe = Pipeline([('scaler',StandardScaler()),('reg',MLPRegressor())])\n",
    "grid = GridSearchCV(pipe, params, cv=3)\n",
    "grid.fit(X,y)\n",
    "\n",
    "print('最佳模型是：\\n{}'.format(grid.best_params_))\n",
    "print('\\n模型最佳得分是:{:.2f}'.format(grid.best_score_))"
   ]
  },
  {
   "cell_type": "code",
   "execution_count": null,
   "id": "ff137108",
   "metadata": {},
   "outputs": [],
   "source": [
    "params = [{'reg':[MLPRegressor(random_state=38, max_iter=1000)],\n",
    "          'scaler':[StandardScaler(),None],\n",
    "          'reg__hidden_layer_sizes':[(50,),(100,),(100,100)]},\n",
    "         {'reg':[RandomForestRegressor(random_state=38)],\n",
    "         'scaler':[None],\n",
    "         'reg__n_estimators':[100,500,1000]}]\n",
    "pipe = Pipeline([('scaler',StandardScaler()),('reg',MLPRegressor())])\n",
    "grid = GridSearchCV(pipe, params, cv=3)\n",
    "grid.fit(X,y)\n",
    "\n",
    "print('最佳模型是：\\n{}'.format(grid.best_params_))\n",
    "print('\\n模型最佳得分是:{:.2f}'.format(grid.best_score_))"
   ]
  },
  {
   "cell_type": "markdown",
   "id": "8e3ccff7",
   "metadata": {},
   "source": [
    "1.导入所需的库和数据集。\n",
    "2.将数据集拆分为训练集和测试集。\n",
    "3.使用管道模型构建回归模型，并通过交叉验证选择最佳的回归算法。\n",
    "4.在所选的回归算法上进行参数调优。\n",
    "5.使用最佳的回归模型在测试集上进行预测，并计算预测结果的均方误差（Mean Squared Error）。\n",
    "题目要求：\n",
    "使用sklearn的管道（Pipeline）模块来构建管道模型。\n",
    "使用sklearn的GridSearchCV来进行交叉验证和参数调优。\n",
    "可选的回归算法包括线性回归（LinearRegression）、岭回归（Ridge）、Lasso回归（Lasso）和决策树回归（DecisionTreeRegressor）等。\n",
    "请完成上述练习题，并给出你的代码实现和结果"
   ]
  },
  {
   "cell_type": "code",
   "execution_count": 4,
   "id": "ac73a444",
   "metadata": {},
   "outputs": [],
   "source": [
    "import numpy as np\n",
    "import pandas as pd\n",
    "import matplotlib.pyplot as plt\n",
    "from sklearn.datasets import load_diabetes\n",
    "from sklearn.pipeline import Pipeline\n",
    "from sklearn.model_selection import cross_val_score\n",
    "from sklearn.feature_selection import SelectFromModel\n",
    "from sklearn.model_selection import train_test_split\n",
    "from sklearn.preprocessing import StandardScaler\n",
    "from sklearn.preprocessing import MinMaxScaler\n",
    "from sklearn.model_selection import GridSearchCV\n",
    "\n",
    "from sklearn.linear_model import LogisticRegression\n",
    "from sklearn.ensemble import RandomForestRegressor\n",
    "from sklearn.tree import DecisionTreeRegressor\n",
    "from sklearn.svm import SVR\n",
    "from sklearn.linear_model import LassoCV,LinearRegression, ElasticNetCV\n",
    "import warnings\n",
    "warnings.filterwarnings('ignore')"
   ]
  },
  {
   "cell_type": "code",
   "execution_count": 5,
   "id": "1f8473cb",
   "metadata": {},
   "outputs": [],
   "source": [
    "# 加载波士顿房价数据集\n",
    "boston = load_boston()\n",
    "X, y = boston.data, boston.target\n",
    "\n",
    "# 数据预处理\n",
    "scaler = StandardScaler()\n",
    "X = scaler.fit_transform(X)\n",
    "\n",
    "# 划分训练集和测试集\n",
    "X_train, X_test, y_train, y_test = train_test_split(X, y, test_size=0.2, random_state=42)"
   ]
  },
  {
   "cell_type": "code",
   "execution_count": 9,
   "id": "864a1a14",
   "metadata": {},
   "outputs": [
    {
     "ename": "NameError",
     "evalue": "name 'GridSearchCV' is not defined",
     "output_type": "error",
     "traceback": [
      "\u001b[1;31m---------------------------------------------------------------------------\u001b[0m",
      "\u001b[1;31mNameError\u001b[0m                                 Traceback (most recent call last)",
      "Cell \u001b[1;32mIn[9], line 15\u001b[0m\n\u001b[0;32m     13\u001b[0m \u001b[38;5;66;03m#下面对pipeline进行实例化\u001b[39;00m\n\u001b[0;32m     14\u001b[0m pipe \u001b[38;5;241m=\u001b[39m Pipeline([(\u001b[38;5;124m'\u001b[39m\u001b[38;5;124mscaler\u001b[39m\u001b[38;5;124m'\u001b[39m,StandardScaler()),(\u001b[38;5;124m'\u001b[39m\u001b[38;5;124mreg\u001b[39m\u001b[38;5;124m'\u001b[39m,MLPRegressor())])\n\u001b[1;32m---> 15\u001b[0m grid \u001b[38;5;241m=\u001b[39m \u001b[43mGridSearchCV\u001b[49m(pipe, params, cv\u001b[38;5;241m=\u001b[39m\u001b[38;5;241m3\u001b[39m)\n\u001b[0;32m     16\u001b[0m grid\u001b[38;5;241m.\u001b[39mfit(X,y)\n\u001b[0;32m     18\u001b[0m \u001b[38;5;28mprint\u001b[39m(\u001b[38;5;124m'\u001b[39m\u001b[38;5;124m最佳模型是：\u001b[39m\u001b[38;5;130;01m\\n\u001b[39;00m\u001b[38;5;132;01m{}\u001b[39;00m\u001b[38;5;124m'\u001b[39m\u001b[38;5;241m.\u001b[39mformat(grid\u001b[38;5;241m.\u001b[39mbest_params_))\n",
      "\u001b[1;31mNameError\u001b[0m: name 'GridSearchCV' is not defined"
     ]
    }
   ],
   "source": [
    "params = [{'reg':[RandomForestRegressor(random_state=38)],\n",
    "           'scaler':[StandardScaler(),None]},\n",
    "          {'reg':[DecisionTreeRegressor(random_state=38)],\n",
    "           'scaler':[StandardScaler(),None]},\n",
    "          {'reg':[SVR()],\n",
    "           'scaler':[StandardScaler(),None]},\n",
    "          {'reg':[LassoCV(random_state=38)],\n",
    "           'scaler':[StandardScaler(),None]},\n",
    "          {'reg':[LinearRegression()],\n",
    "           'scaler':[StandardScaler(),None]},\n",
    "         {'reg':[ElasticNetCV(random_state=38)],\n",
    "         'scaler':[None]}]\n",
    "#下面对pipeline进行实例化\n",
    "pipe = Pipeline([('scaler',StandardScaler()),('reg',MLPRegressor())])\n",
    "grid = GridSearchCV(pipe, params, cv=3)\n",
    "grid.fit(X,y)\n",
    "\n",
    "print('最佳模型是：\\n{}'.format(grid.best_params_))\n",
    "print('\\n模型最佳得分是:{:.2f}'.format(grid.best_score_))"
   ]
  },
  {
   "cell_type": "code",
   "execution_count": null,
   "id": "ff3036e7",
   "metadata": {},
   "outputs": [],
   "source": []
  },
  {
   "cell_type": "code",
   "execution_count": null,
   "id": "879d4154",
   "metadata": {},
   "outputs": [],
   "source": []
  },
  {
   "cell_type": "code",
   "execution_count": null,
   "id": "7375b38c",
   "metadata": {},
   "outputs": [],
   "source": []
  },
  {
   "cell_type": "code",
   "execution_count": null,
   "id": "dd8bfc1c",
   "metadata": {},
   "outputs": [],
   "source": []
  }
 ],
 "metadata": {
  "kernelspec": {
   "display_name": "Python 3 (ipykernel)",
   "language": "python",
   "name": "python3"
  },
  "language_info": {
   "codemirror_mode": {
    "name": "ipython",
    "version": 3
   },
   "file_extension": ".py",
   "mimetype": "text/x-python",
   "name": "python",
   "nbconvert_exporter": "python",
   "pygments_lexer": "ipython3",
   "version": "3.8.8"
  }
 },
 "nbformat": 4,
 "nbformat_minor": 5
}
