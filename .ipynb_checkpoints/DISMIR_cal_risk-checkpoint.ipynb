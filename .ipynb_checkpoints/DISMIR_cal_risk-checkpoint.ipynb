{
 "cells": [
  {
   "cell_type": "code",
   "execution_count": 10,
   "id": "32cc7b98-918a-4198-a457-d553ed8384a8",
   "metadata": {},
   "outputs": [],
   "source": [
    "import numpy as np\n",
    "import os"
   ]
  },
  {
   "cell_type": "code",
   "execution_count": 11,
   "id": "b08e63b6-e62a-4936-863e-20c1bf0fdb07",
   "metadata": {},
   "outputs": [],
   "source": [
    "def file_name(file_dir):\n",
    "    for root, dirs, files in os.walk(file_dir):\n",
    "        return files"
   ]
  },
  {
   "cell_type": "code",
   "execution_count": 12,
   "id": "0aac6f24-5dd2-47ed-b75d-2d4786f2ac07",
   "metadata": {},
   "outputs": [],
   "source": [
    "if __name__ == '__main__':\n",
    "    store_dir = 'D:\\\\liuchaochao\\\\桌面\\\\DISMIR\\\\store_dir\\\\' # directory where the predicted d-scores are stored\n",
    "    output = open('D:\\\\liuchaochao\\\\桌面\\\\DISMIR\\\\new_value_result.txt', 'w') # file to store predicted risk\n",
    "    files = file_name(store_dir)\n",
    "\n",
    "    # cal risk by maximize posterior probability\n",
    "    gaps = np.linspace(0, 1, 1001)\n",
    "    score = np.vstack((gaps, 1 - gaps))\n",
    "    score = score.T\n",
    "    for file in files:\n",
    "        likelihood_1 = np.loadtxt(store_dir + file)\n",
    "        likelihood_2 = 1 - likelihood_1\n",
    "        likelihood = np.vstack((likelihood_1, likelihood_2))\n",
    "        val = np.log10(np.dot(score, likelihood))\n",
    "        sum = np.sum(val, axis=1)\n",
    "        result = gaps[np.argmax(sum)]\n",
    "        output.write(file + '\\t' + str(result) + '\\n')\n",
    "    output.close()\n"
   ]
  },
  {
   "cell_type": "code",
   "execution_count": null,
   "id": "1cad30cb-6c43-40b8-8296-e13206e71875",
   "metadata": {},
   "outputs": [],
   "source": []
  },
  {
   "cell_type": "code",
   "execution_count": null,
   "id": "a223653c-e546-436f-a30e-7f1bf17e5be2",
   "metadata": {},
   "outputs": [],
   "source": []
  }
 ],
 "metadata": {
  "kernelspec": {
   "display_name": "Python 3 (ipykernel)",
   "language": "python",
   "name": "python3"
  },
  "language_info": {
   "codemirror_mode": {
    "name": "ipython",
    "version": 3
   },
   "file_extension": ".py",
   "mimetype": "text/x-python",
   "name": "python",
   "nbconvert_exporter": "python",
   "pygments_lexer": "ipython3",
   "version": "3.8.18"
  }
 },
 "nbformat": 4,
 "nbformat_minor": 5
}
